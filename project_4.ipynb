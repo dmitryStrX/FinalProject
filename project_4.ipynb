{
 "cells": [
  {
   "cell_type": "code",
   "execution_count": 4,
   "id": "eb4df4c9-3b39-476a-ac7b-e22b124e066e",
   "metadata": {
    "ExecuteTime": {
     "end_time": "2025-03-05T14:15:59.428908Z",
     "start_time": "2025-03-05T14:15:59.415895Z"
    }
   },
   "outputs": [],
   "source": [
    "import kagglehub\n",
    "import numpy as np\n",
    "import os\n",
    "import random\n",
    "import pandas as pd\n",
    "import matplotlib.pyplot as plt\n",
    "import seaborn as sns\n",
    "\n",
    "from sklearn.model_selection import train_test_split\n",
    "from sklearn.preprocessing import StandardScaler, MinMaxScaler\n",
    "from sklearn.ensemble import RandomForestClassifier\n",
    "from sklearn.linear_model import LogisticRegression\n",
    "from sklearn.metrics import confusion_matrix, accuracy_score, precision_score, recall_score, f1_score, classification_report\n",
    "from sklearn.svm import SVC\n",
    "\n",
    "import xgboost as xgb\n",
    "\n",
    "import tensorflow as tf\n",
    "from tensorflow import keras\n",
    "from tensorflow.keras import layers\n",
    "from tensorflow.keras.callbacks import Callback\n",
    "from tensorflow.keras.callbacks import EarlyStopping\n",
    "from tensorflow.keras import backend as K\n",
    "from tensorflow.keras.losses import BinaryCrossentropy\n",
    "\n",
    "from IPython.display import clear_output"
   ]
  },
  {
   "cell_type": "markdown",
   "id": "296bac1c-ca45-434e-b680-1129082e7193",
   "metadata": {},
   "source": [
    "Eliminate potential sources of non-reapitability"
   ]
  },
  {
   "cell_type": "code",
   "execution_count": 5,
   "id": "99259ecd-c148-4d25-a5c5-74be5367b8d0",
   "metadata": {
    "ExecuteTime": {
     "end_time": "2025-03-05T14:16:23.858790Z",
     "start_time": "2025-03-05T14:16:23.842673Z"
    }
   },
   "outputs": [],
   "source": [
    "tf.config.threading.set_intra_op_parallelism_threads(1)\n",
    "tf.config.threading.set_inter_op_parallelism_threads(1)\n",
    "\n",
    "seed = 1957\n",
    "os.environ['PYTHONHASHSEED'] = str(seed)\n",
    "random.seed(seed)\n",
    "np.random.seed(seed)"
   ]
  },
  {
   "cell_type": "markdown",
   "id": "5ee39ed9-e3b3-4403-9107-ee712defd2cd",
   "metadata": {},
   "source": [
    "**1) Selecting the dataset**"
   ]
  },
  {
   "cell_type": "markdown",
   "id": "3a054c5d-b31a-409b-a189-1b63ecf8ce49",
   "metadata": {},
   "source": [
    "We selected the heart.csv data set to practice classification"
   ]
  },
  {
   "cell_type": "code",
   "execution_count": 6,
   "id": "e09359b1-bd74-4a16-a76f-0de00241e41e",
   "metadata": {
    "ExecuteTime": {
     "end_time": "2025-03-05T14:18:02.623901Z",
     "start_time": "2025-03-05T14:18:02.592369Z"
    }
   },
   "outputs": [],
   "source": [
    "DF = pd.read_csv(\"heart.csv\")"
   ]
  },
  {
   "cell_type": "markdown",
   "id": "aeadd456-fa35-4216-82e6-d5fb970a2b4e",
   "metadata": {},
   "source": [
    "**2) EDA**"
   ]
  },
  {
   "cell_type": "markdown",
   "id": "9b2d2782-1574-4e33-ba95-633b760d25e6",
   "metadata": {},
   "source": [
    "*****Investigation the content of the dataset*****"
   ]
  },
  {
   "cell_type": "markdown",
   "id": "56490efb-cd6d-4ad0-b83b-a1fecf195962",
   "metadata": {},
   "source": [
    "Get a list of the columns of the dataset"
   ]
  },
  {
   "cell_type": "code",
   "execution_count": 7,
   "id": "c76ba31e-dab1-41e3-be72-631a0a8c8dc3",
   "metadata": {
    "ExecuteTime": {
     "end_time": "2025-03-05T14:18:42.468289Z",
     "start_time": "2025-03-05T14:18:42.457291Z"
    }
   },
   "outputs": [
    {
     "name": "stdout",
     "output_type": "stream",
     "text": [
      "the columns of the dataset are\n",
      "------------------------------\n",
      "Index(['age', 'sex', 'cp', 'trestbps', 'chol', 'fbs', 'restecg', 'thalach',\n",
      "       'exang', 'oldpeak', 'slope', 'ca', 'thal', 'target'],\n",
      "      dtype='object')\n"
     ]
    }
   ],
   "source": [
    "print ('the columns of the dataset are')\n",
    "print ('------------------------------')\n",
    "print(DF.columns)"
   ]
  },
  {
   "cell_type": "markdown",
   "id": "f99657e8-6053-4103-a99b-006e37da1744",
   "metadata": {},
   "source": [
    "Following is a description of the data-set columns, atken from Kaggle"
   ]
  },
  {
   "cell_type": "markdown",
   "id": "92f59ccb-a0e0-409e-8a28-34627981a353",
   "metadata": {},
   "source": [
    "| Variable Name | Description | Values/Notes |\n",
    "|:-------------|:------------|:------------|\n",
    "| **age** | Age of the patient | (years) |\n",
    "| **sex** | Gender | 1 = male, 0 = female |\n",
    "| **cp** | Chest pain type | 0: Typical angina<br>1: Atypical angina<br>2: Non-anginal pain<br>3: Asymptomatic |\n",
    "| **trestbps** | Resting blood pressure | (mm Hg) |\n",
    "| **chol** | Serum cholesterol | (mg/dl) |\n",
    "| **fbs** | Fasting blood sugar | 1 = true, 0 = false |\n",
    "| **restecg** | Resting ECG results | 0: Normal<br>1: ST-T wave abnormality<br>2: Left ventricular hypertrophy |\n",
    "| **thalach** | Max heart rate achieved | (bpm) |\n",
    "| **exang** | Exercise-induced angina | 1 = yes, 0 = no |\n",
    "| **oldpeak** | ST depression (exercise vs. rest) | (numeric) |\n",
    "| **slope** | Slope of peak exercise ST segment | 0: Upsloping<br>1: Flat<br>2: Downsloping |\n",
    "| **ca** | Major vessels colored by fluoroscopy | (0–3) |\n",
    "| **thal** | Thalassemia | 0: Normal<br>1: Fixed defect<br>2: Reversible defect |\n",
    "| **target** | Heart disease diagnosis | 0: No significant disease<br>1: Significant disease |"
   ]
  },
  {
   "cell_type": "markdown",
   "id": "7d8eee1c-6e9f-4a14-bd32-a36b21b7c279",
   "metadata": {},
   "source": [
    "*****Check for missing values*****"
   ]
  },
  {
   "cell_type": "code",
   "execution_count": 8,
   "id": "de1718f4-a32f-4878-89c3-917947228592",
   "metadata": {
    "ExecuteTime": {
     "end_time": "2025-03-05T14:19:14.864658Z",
     "start_time": "2025-03-05T14:19:14.852657Z"
    }
   },
   "outputs": [
    {
     "name": "stdout",
     "output_type": "stream",
     "text": [
      "There are no missing values\n"
     ]
    }
   ],
   "source": [
    "if not(DF.isnull().values.any()):\n",
    "    print ('There are no missing values')\n",
    "else:\n",
    "    print ('There are some missing values')"
   ]
  },
  {
   "cell_type": "markdown",
   "id": "dfd87435-169a-4189-9489-de57633a690a",
   "metadata": {},
   "source": [
    "*****Checking the data type of variables*****"
   ]
  },
  {
   "cell_type": "code",
   "execution_count": 9,
   "id": "c4ad83e2-3e1f-401f-9a0d-c08614b50d10",
   "metadata": {
    "ExecuteTime": {
     "end_time": "2025-03-05T14:19:19.407823Z",
     "start_time": "2025-03-05T14:19:19.398797Z"
    }
   },
   "outputs": [
    {
     "name": "stdout",
     "output_type": "stream",
     "text": [
      "All columns are numeric\n"
     ]
    }
   ],
   "source": [
    "if not len(DF.select_dtypes(exclude=['number']).columns):\n",
    "    print ('All columns are numeric')\n",
    "else:\n",
    "    print ('Some columns are not numeric')"
   ]
  },
  {
   "cell_type": "markdown",
   "id": "f0a99890-0bcc-4b60-a065-6e81b4418d1e",
   "metadata": {},
   "source": [
    "Note: the data type of all variables is numeric, but most of them are categorial in nature, as described above"
   ]
  },
  {
   "cell_type": "markdown",
   "id": "68cdc8d4-8f48-448d-bc6a-59134aed4849",
   "metadata": {},
   "source": [
    "*****Investigate the correlation between the variables*****"
   ]
  },
  {
   "cell_type": "code",
   "execution_count": 10,
   "id": "bf15effb-12ef-4608-a085-52cc5b5b49e3",
   "metadata": {
    "ExecuteTime": {
     "end_time": "2025-03-05T14:19:31.090066Z",
     "start_time": "2025-03-05T14:19:30.775766Z"
    },
    "scrolled": true
   },
   "outputs": [
    {
     "data": {
      "image/png": "[encoded data removed]",
      "text/plain": [
       "<Figure size 600x600 with 2 Axes>"
      ]
     },
     "metadata": {},
     "output_type": "display_data"
    }
   ],
   "source": [
    "plt.figure(figsize=(6,6))\n",
    "sns.heatmap(DF.corr(), annot=False, cmap='coolwarm', fmt=\".2f\")\n",
    "plt.grid()\n",
    "plt.title(\"Feature Correlation Heatmap\")\n",
    "plt.show()"
   ]
  },
  {
   "cell_type": "markdown",
   "id": "d4874b6b-f706-4f5e-adb2-14c7a769a81e",
   "metadata": {},
   "source": [
    "Evaluate the level of correlation between the predictors and the target"
   ]
  },
  {
   "cell_type": "code",
   "execution_count": 11,
   "id": "e4d39af1-7bcd-4708-978a-87cebf189a72",
   "metadata": {
    "ExecuteTime": {
     "end_time": "2025-03-05T14:27:33.046176Z",
     "start_time": "2025-03-05T14:27:33.034178Z"
    }
   },
   "outputs": [
    {
     "name": "stdout",
     "output_type": "stream",
     "text": [
      "variable   correlation with target\n",
      "exang      -0.436757\n",
      "cp          0.433798\n",
      "oldpeak    -0.430696\n",
      "thalach     0.421741\n",
      "ca         -0.391724\n",
      "slope       0.345877\n",
      "thal       -0.344029\n",
      "sex        -0.280937\n",
      "age        -0.225439\n",
      "trestbps   -0.144931\n",
      "restecg     0.137230\n",
      "chol       -0.085239\n",
      "fbs        -0.028046\n",
      "Name: target, dtype: float64\n"
     ]
    }
   ],
   "source": [
    "target_corr = DF.corr()['target'].drop('target')\n",
    "sorted_target_corr = target_corr.loc[target_corr.abs().sort_values(ascending=False).index]\n",
    "print ('variable   correlation with target')\n",
    "print(sorted_target_corr)\n",
    "# print(target_corr.loc[target_corr.abs().sort_values(ascending=False).index])"
   ]
  },
  {
   "cell_type": "markdown",
   "id": "a71e875d-0635-41fa-8fd2-8925cad43502",
   "metadata": {},
   "source": [
    "The predictors exang, cp, oldpeak, and thalach have moderate correlation with the target.   \n",
    "The predictors ca, slope, thal, sex, and age have week correlation with the target.   \n",
    "The predictors trestbps, restecg, chol, and fbs have essentially no correlation with the target"
   ]
  },
  {
   "cell_type": "markdown",
   "id": "7b4a98ec-f870-4419-a54f-e39bc3e24439",
   "metadata": {},
   "source": [
    "Check for potential colinearity between the predictors"
   ]
  },
  {
   "cell_type": "code",
   "execution_count": 12,
   "id": "5eb32a5a-940a-4307-8ded-3e25f2cc175a",
   "metadata": {
    "ExecuteTime": {
     "end_time": "2025-03-05T14:27:46.216859Z",
     "start_time": "2025-03-05T14:27:46.182083Z"
    }
   },
   "outputs": [
    {
     "name": "stdout",
     "output_type": "stream",
     "text": [
      "The pairs with the highest correlation are\n",
      "------------------------------------------\n",
      "var1   var2       correlation\n",
      "slope  oldpeak    0.577537\n",
      "age    thalach    0.398522\n",
      "cp     exang      0.394280\n",
      "slope  thalach    0.386784\n",
      "exang  thalach    0.378812\n",
      "dtype: float64\n"
     ]
    }
   ],
   "source": [
    "predictors = DF.drop('target',axis=1)\n",
    "corr_matrix = predictors.corr()\n",
    "sorted_corr = (corr_matrix.abs().unstack().sort_values(ascending=False))\n",
    "sorted_corr1 = sorted_corr[sorted_corr.index.get_level_values(0) != sorted_corr.index.get_level_values(1)]\n",
    "sorted_corr2 = sorted_corr1[::2]\n",
    "print('The pairs with the highest correlation are')\n",
    "print('------------------------------------------')\n",
    "print('var1   var2       correlation')\n",
    "print(sorted_corr2.head())"
   ]
  },
  {
   "cell_type": "markdown",
   "id": "46579182-a06d-44f7-aa56-71930b63459b",
   "metadata": {},
   "source": [
    "Exept from the slope-oldpeak pair, which maight be considerred to have almost moderate colinearity, all other pairs have low or acceptable collinearity."
   ]
  },
  {
   "cell_type": "markdown",
   "id": "e0ac1984-996d-4a5b-aae9-5a9c62977040",
   "metadata": {},
   "source": [
    "*****Checking the balance of the target*****"
   ]
  },
  {
   "cell_type": "code",
   "execution_count": 13,
   "id": "fc6e1327-916d-496a-a3a3-a499aa17099a",
   "metadata": {
    "ExecuteTime": {
     "end_time": "2025-03-05T14:28:17.455701Z",
     "start_time": "2025-03-05T14:28:17.447703Z"
    }
   },
   "outputs": [
    {
     "name": "stdout",
     "output_type": "stream",
     "text": [
      "The positive outcome rate is 0.54\n"
     ]
    }
   ],
   "source": [
    "y = DF['target']\n",
    "print(f'The positive outcome rate is {y.mean():.2f}')"
   ]
  },
  {
   "cell_type": "markdown",
   "id": "9091afd2-ab60-4f34-807d-e9c6730c3821",
   "metadata": {},
   "source": [
    "The target is well balanced"
   ]
  },
  {
   "cell_type": "markdown",
   "id": "1dc4c8b1-6240-47aa-93b3-ffa471826c7f",
   "metadata": {},
   "source": [
    "**3) Preprocessing**"
   ]
  },
  {
   "cell_type": "markdown",
   "id": "0399c946-bd78-478a-a242-1def51f0dd9c",
   "metadata": {},
   "source": [
    "*****Scaling (normalization)*****"
   ]
  },
  {
   "cell_type": "markdown",
   "id": "f18f39a2-3be6-47e4-92f4-6f2e4c24bbea",
   "metadata": {},
   "source": [
    "Most of the predictors are categorial. The only numeric predictors are: age, trestbps, oldpeak, and ca. "
   ]
  },
  {
   "cell_type": "markdown",
   "id": "b1b8b996-e104-4651-bb1b-3c6e68dfdf4d",
   "metadata": {},
   "source": [
    "Scale the numeric predictors to the 0 to 1 interval"
   ]
  },
  {
   "cell_type": "code",
   "execution_count": 14,
   "id": "de07630e-72a6-44d9-8e96-d6483cc46c3b",
   "metadata": {
    "ExecuteTime": {
     "end_time": "2025-03-05T14:28:37.491695Z",
     "start_time": "2025-03-05T14:28:37.478699Z"
    }
   },
   "outputs": [],
   "source": [
    "X_unencoded = predictors.copy()\n",
    "numeric_predictors = ['age','trestbps','oldpeak'] \n",
    "scaler=scaler = MinMaxScaler(feature_range=(0,1))\n",
    "X_unencoded[numeric_predictors]=scaler.fit_transform(predictors[numeric_predictors])"
   ]
  },
  {
   "cell_type": "markdown",
   "id": "ec2b1c48-cec5-41fe-95e7-d103f0a379c3",
   "metadata": {},
   "source": [
    "Most of the categorial predictors are binary. The non-binary categorial perdictors are: cp, restecg, slope, and thal      "
   ]
  },
  {
   "cell_type": "markdown",
   "id": "c0f9f6d7-2429-4cae-b46a-ce9cf579fece",
   "metadata": {},
   "source": [
    "Encode the non-binary categorial predictor in a one hop encoding"
   ]
  },
  {
   "cell_type": "code",
   "execution_count": 15,
   "id": "80355723-1325-40ff-a070-1ec48641ab43",
   "metadata": {
    "ExecuteTime": {
     "end_time": "2025-03-05T14:28:43.300535Z",
     "start_time": "2025-03-05T14:28:43.280434Z"
    }
   },
   "outputs": [],
   "source": [
    "non_binary_categorial_predictors = ['cp','restecg','slope','thal'] \n",
    "X=pd.get_dummies(X_unencoded,columns=non_binary_categorial_predictors,drop_first=True)"
   ]
  },
  {
   "cell_type": "markdown",
   "id": "ddb25721-27e7-4fec-a1eb-eeca38f030f6",
   "metadata": {},
   "source": [
    "**4) Splitting into train, validation, and test**"
   ]
  },
  {
   "cell_type": "markdown",
   "id": "87b930b2-9207-4809-bd89-9cb70ecc7d47",
   "metadata": {},
   "source": [
    "Split the dataset into train(60%), validation(20%), and test(20%)."
   ]
  },
  {
   "cell_type": "code",
   "execution_count": 16,
   "id": "9e11a16d-59ab-4290-a90b-1f3ebd66045b",
   "metadata": {
    "ExecuteTime": {
     "end_time": "2025-03-05T14:28:45.784439Z",
     "start_time": "2025-03-05T14:28:45.770316Z"
    }
   },
   "outputs": [],
   "source": [
    "X_train, X_full_test, y_train, y_full_test = train_test_split(X, y, test_size=0.4,random_state=503)\n",
    "X_val, X_test, y_val,y_test = train_test_split(X_full_test, y_full_test, test_size=0.5,random_state=419)"
   ]
  },
  {
   "cell_type": "markdown",
   "id": "b00a18ef-a0d9-41b0-8270-104f5239d86f",
   "metadata": {},
   "source": [
    "**5) Getting reference for the expected performance by using ML algorithms (XGBC,RF, and LR)**"
   ]
  },
  {
   "cell_type": "markdown",
   "id": "5e6da146-1742-4f06-b55c-1e5011db80f9",
   "metadata": {},
   "source": [
    "*****XGBClassifier*****"
   ]
  },
  {
   "cell_type": "code",
   "execution_count": 17,
   "id": "0b0fc5b6-2fdf-42a6-843e-55d451c7b339",
   "metadata": {
    "ExecuteTime": {
     "end_time": "2025-03-05T14:28:50.900719Z",
     "start_time": "2025-03-05T14:28:50.647681Z"
    }
   },
   "outputs": [
    {
     "data": {
      "text/html": [
       "<style>#sk-container-id-1 {\n",
       "  /* Definition of color scheme common for light and dark mode */\n",
       "  --sklearn-color-text: #000;\n",
       "  --sklearn-color-text-muted: #666;\n",
       "  --sklearn-color-line: gray;\n",
       "  /* Definition of color scheme for unfitted estimators */\n",
       "  --sklearn-color-unfitted-level-0: #fff5e6;\n",
       "  --sklearn-color-unfitted-level-1: #f6e4d2;\n",
       "  --sklearn-color-unfitted-level-2: #ffe0b3;\n",
       "  --sklearn-color-unfitted-level-3: chocolate;\n",
       "  /* Definition of color scheme for fitted estimators */\n",
       "  --sklearn-color-fitted-level-0: #f0f8ff;\n",
       "  --sklearn-color-fitted-level-1: #d4ebff;\n",
       "  --sklearn-color-fitted-level-2: #b3dbfd;\n",
       "  --sklearn-color-fitted-level-3: cornflowerblue;\n",
       "\n",
       "  /* Specific color for light theme */\n",
       "  --sklearn-color-text-on-default-background: var(--sg-text-color, var(--theme-code-foreground, var(--jp-content-font-color1, black)));\n",
       "  --sklearn-color-background: var(--sg-background-color, var(--theme-background, var(--jp-layout-color0, white)));\n",
       "  --sklearn-color-border-box: var(--sg-text-color, var(--theme-code-foreground, var(--jp-content-font-color1, black)));\n",
       "  --sklearn-color-icon: #696969;\n",
       "\n",
       "  @media (prefers-color-scheme: dark) {\n",
       "    /* Redefinition of color scheme for dark theme */\n",
       "    --sklearn-color-text-on-default-background: var(--sg-text-color, var(--theme-code-foreground, var(--jp-content-font-color1, white)));\n",
       "    --sklearn-color-background: var(--sg-background-color, var(--theme-background, var(--jp-layout-color0, #111)));\n",
       "    --sklearn-color-border-box: var(--sg-text-color, var(--theme-code-foreground, var(--jp-content-font-color1, white)));\n",
       "    --sklearn-color-icon: #878787;\n",
       "  }\n",
       "}\n",
       "\n",
       "#sk-container-id-1 {\n",
       "  color: var(--sklearn-color-text);\n",
       "}\n",
       "\n",
       "#sk-container-id-1 pre {\n",
       "  padding: 0;\n",
       "}\n",
       "\n",
       "#sk-container-id-1 input.sk-hidden--visually {\n",
       "  border: 0;\n",
       "  clip: rect(1px 1px 1px 1px);\n",
       "  clip: rect(1px, 1px, 1px, 1px);\n",
       "  height: 1px;\n",
       "  margin: -1px;\n",
       "  overflow: hidden;\n",
       "  padding: 0;\n",
       "  position: absolute;\n",
       "  width: 1px;\n",
       "}\n",
       "\n",
       "#sk-container-id-1 div.sk-dashed-wrapped {\n",
       "  border: 1px dashed var(--sklearn-color-line);\n",
       "  margin: 0 0.4em 0.5em 0.4em;\n",
       "  box-sizing: border-box;\n",
       "  padding-bottom: 0.4em;\n",
       "  background-color: var(--sklearn-color-background);\n",
       "}\n",
       "\n",
       "#sk-container-id-1 div.sk-container {\n",
       "  /* jupyter's `normalize.less` sets `[hidden] { display: none; }`\n",
       "     but bootstrap.min.css set `[hidden] { display: none !important; }`\n",
       "     so we also need the `!important` here to be able to override the\n",
       "     default hidden behavior on the sphinx rendered scikit-learn.org.\n",
       "     See: https://github.com/scikit-learn/scikit-learn/issues/21755 */\n",
       "  display: inline-block !important;\n",
       "  position: relative;\n",
       "}\n",
       "\n",
       "#sk-container-id-1 div.sk-text-repr-fallback {\n",
       "  display: none;\n",
       "}\n",
       "\n",
       "div.sk-parallel-item,\n",
       "div.sk-serial,\n",
       "div.sk-item {\n",
       "  /* draw centered vertical line to link estimators */\n",
       "  background-image: linear-gradient(var(--sklearn-color-text-on-default-background), var(--sklearn-color-text-on-default-background));\n",
       "  background-size: 2px 100%;\n",
       "  background-repeat: no-repeat;\n",
       "  background-position: center center;\n",
       "}\n",
       "\n",
       "/* Parallel-specific style estimator block */\n",
       "\n",
       "#sk-container-id-1 div.sk-parallel-item::after {\n",
       "  content: \"\";\n",
       "  width: 100%;\n",
       "  border-bottom: 2px solid var(--sklearn-color-text-on-default-background);\n",
       "  flex-grow: 1;\n",
       "}\n",
       "\n",
       "#sk-container-id-1 div.sk-parallel {\n",
       "  display: flex;\n",
       "  align-items: stretch;\n",
       "  justify-content: center;\n",
       "  background-color: var(--sklearn-color-background);\n",
       "  position: relative;\n",
       "}\n",
       "\n",
       "#sk-container-id-1 div.sk-parallel-item {\n",
       "  display: flex;\n",
       "  flex-direction: column;\n",
       "}\n",
       "\n",
       "#sk-container-id-1 div.sk-parallel-item:first-child::after {\n",
       "  align-self: flex-end;\n",
       "  width: 50%;\n",
       "}\n",
       "\n",
       "#sk-container-id-1 div.sk-parallel-item:last-child::after {\n",
       "  align-self: flex-start;\n",
       "  width: 50%;\n",
       "}\n",
       "\n",
       "#sk-container-id-1 div.sk-parallel-item:only-child::after {\n",
       "  width: 0;\n",
       "}\n",
       "\n",
       "/* Serial-specific style estimator block */\n",
       "\n",
       "#sk-container-id-1 div.sk-serial {\n",
       "  display: flex;\n",
       "  flex-direction: column;\n",
       "  align-items: center;\n",
       "  background-color: var(--sklearn-color-background);\n",
       "  padding-right: 1em;\n",
       "  padding-left: 1em;\n",
       "}\n",
       "\n",
       "\n",
       "/* Toggleable style: style used for estimator/Pipeline/ColumnTransformer box that is\n",
       "clickable and can be expanded/collapsed.\n",
       "- Pipeline and ColumnTransformer use this feature and define the default style\n",
       "- Estimators will overwrite some part of the style using the `sk-estimator` class\n",
       "*/\n",
       "\n",
       "/* Pipeline and ColumnTransformer style (default) */\n",
       "\n",
       "#sk-container-id-1 div.sk-toggleable {\n",
       "  /* Default theme specific background. It is overwritten whether we have a\n",
       "  specific estimator or a Pipeline/ColumnTransformer */\n",
       "  background-color: var(--sklearn-color-background);\n",
       "}\n",
       "\n",
       "/* Toggleable label */\n",
       "#sk-container-id-1 label.sk-toggleable__label {\n",
       "  cursor: pointer;\n",
       "  display: flex;\n",
       "  width: 100%;\n",
       "  margin-bottom: 0;\n",
       "  padding: 0.5em;\n",
       "  box-sizing: border-box;\n",
       "  text-align: center;\n",
       "  align-items: start;\n",
       "  justify-content: space-between;\n",
       "  gap: 0.5em;\n",
       "}\n",
       "\n",
       "#sk-container-id-1 label.sk-toggleable__label .caption {\n",
       "  font-size: 0.6rem;\n",
       "  font-weight: lighter;\n",
       "  color: var(--sklearn-color-text-muted);\n",
       "}\n",
       "\n",
       "#sk-container-id-1 label.sk-toggleable__label-arrow:before {\n",
       "  /* Arrow on the left of the label */\n",
       "  content: \"▸\";\n",
       "  float: left;\n",
       "  margin-right: 0.25em;\n",
       "  color: var(--sklearn-color-icon);\n",
       "}\n",
       "\n",
       "#sk-container-id-1 label.sk-toggleable__label-arrow:hover:before {\n",
       "  color: var(--sklearn-color-text);\n",
       "}\n",
       "\n",
       "/* Toggleable content - dropdown */\n",
       "\n",
       "#sk-container-id-1 div.sk-toggleable__content {\n",
       "  max-height: 0;\n",
       "  max-width: 0;\n",
       "  overflow: hidden;\n",
       "  text-align: left;\n",
       "  /* unfitted */\n",
       "  background-color: var(--sklearn-color-unfitted-level-0);\n",
       "}\n",
       "\n",
       "#sk-container-id-1 div.sk-toggleable__content.fitted {\n",
       "  /* fitted */\n",
       "  background-color: var(--sklearn-color-fitted-level-0);\n",
       "}\n",
       "\n",
       "#sk-container-id-1 div.sk-toggleable__content pre {\n",
       "  margin: 0.2em;\n",
       "  border-radius: 0.25em;\n",
       "  color: var(--sklearn-color-text);\n",
       "  /* unfitted */\n",
       "  background-color: var(--sklearn-color-unfitted-level-0);\n",
       "}\n",
       "\n",
       "#sk-container-id-1 div.sk-toggleable__content.fitted pre {\n",
       "  /* unfitted */\n",
       "  background-color: var(--sklearn-color-fitted-level-0);\n",
       "}\n",
       "\n",
       "#sk-container-id-1 input.sk-toggleable__control:checked~div.sk-toggleable__content {\n",
       "  /* Expand drop-down */\n",
       "  max-height: 200px;\n",
       "  max-width: 100%;\n",
       "  overflow: auto;\n",
       "}\n",
       "\n",
       "#sk-container-id-1 input.sk-toggleable__control:checked~label.sk-toggleable__label-arrow:before {\n",
       "  content: \"▾\";\n",
       "}\n",
       "\n",
       "/* Pipeline/ColumnTransformer-specific style */\n",
       "\n",
       "#sk-container-id-1 div.sk-label input.sk-toggleable__control:checked~label.sk-toggleable__label {\n",
       "  color: var(--sklearn-color-text);\n",
       "  background-color: var(--sklearn-color-unfitted-level-2);\n",
       "}\n",
       "\n",
       "#sk-container-id-1 div.sk-label.fitted input.sk-toggleable__control:checked~label.sk-toggleable__label {\n",
       "  background-color: var(--sklearn-color-fitted-level-2);\n",
       "}\n",
       "\n",
       "/* Estimator-specific style */\n",
       "\n",
       "/* Colorize estimator box */\n",
       "#sk-container-id-1 div.sk-estimator input.sk-toggleable__control:checked~label.sk-toggleable__label {\n",
       "  /* unfitted */\n",
       "  background-color: var(--sklearn-color-unfitted-level-2);\n",
       "}\n",
       "\n",
       "#sk-container-id-1 div.sk-estimator.fitted input.sk-toggleable__control:checked~label.sk-toggleable__label {\n",
       "  /* fitted */\n",
       "  background-color: var(--sklearn-color-fitted-level-2);\n",
       "}\n",
       "\n",
       "#sk-container-id-1 div.sk-label label.sk-toggleable__label,\n",
       "#sk-container-id-1 div.sk-label label {\n",
       "  /* The background is the default theme color */\n",
       "  color: var(--sklearn-color-text-on-default-background);\n",
       "}\n",
       "\n",
       "/* On hover, darken the color of the background */\n",
       "#sk-container-id-1 div.sk-label:hover label.sk-toggleable__label {\n",
       "  color: var(--sklearn-color-text);\n",
       "  background-color: var(--sklearn-color-unfitted-level-2);\n",
       "}\n",
       "\n",
       "/* Label box, darken color on hover, fitted */\n",
       "#sk-container-id-1 div.sk-label.fitted:hover label.sk-toggleable__label.fitted {\n",
       "  color: var(--sklearn-color-text);\n",
       "  background-color: var(--sklearn-color-fitted-level-2);\n",
       "}\n",
       "\n",
       "/* Estimator label */\n",
       "\n",
       "#sk-container-id-1 div.sk-label label {\n",
       "  font-family: monospace;\n",
       "  font-weight: bold;\n",
       "  display: inline-block;\n",
       "  line-height: 1.2em;\n",
       "}\n",
       "\n",
       "#sk-container-id-1 div.sk-label-container {\n",
       "  text-align: center;\n",
       "}\n",
       "\n",
       "/* Estimator-specific */\n",
       "#sk-container-id-1 div.sk-estimator {\n",
       "  font-family: monospace;\n",
       "  border: 1px dotted var(--sklearn-color-border-box);\n",
       "  border-radius: 0.25em;\n",
       "  box-sizing: border-box;\n",
       "  margin-bottom: 0.5em;\n",
       "  /* unfitted */\n",
       "  background-color: var(--sklearn-color-unfitted-level-0);\n",
       "}\n",
       "\n",
       "#sk-container-id-1 div.sk-estimator.fitted {\n",
       "  /* fitted */\n",
       "  background-color: var(--sklearn-color-fitted-level-0);\n",
       "}\n",
       "\n",
       "/* on hover */\n",
       "#sk-container-id-1 div.sk-estimator:hover {\n",
       "  /* unfitted */\n",
       "  background-color: var(--sklearn-color-unfitted-level-2);\n",
       "}\n",
       "\n",
       "#sk-container-id-1 div.sk-estimator.fitted:hover {\n",
       "  /* fitted */\n",
       "  background-color: var(--sklearn-color-fitted-level-2);\n",
       "}\n",
       "\n",
       "/* Specification for estimator info (e.g. \"i\" and \"?\") */\n",
       "\n",
       "/* Common style for \"i\" and \"?\" */\n",
       "\n",
       ".sk-estimator-doc-link,\n",
       "a:link.sk-estimator-doc-link,\n",
       "a:visited.sk-estimator-doc-link {\n",
       "  float: right;\n",
       "  font-size: smaller;\n",
       "  line-height: 1em;\n",
       "  font-family: monospace;\n",
       "  background-color: var(--sklearn-color-background);\n",
       "  border-radius: 1em;\n",
       "  height: 1em;\n",
       "  width: 1em;\n",
       "  text-decoration: none !important;\n",
       "  margin-left: 0.5em;\n",
       "  text-align: center;\n",
       "  /* unfitted */\n",
       "  border: var(--sklearn-color-unfitted-level-1) 1pt solid;\n",
       "  color: var(--sklearn-color-unfitted-level-1);\n",
       "}\n",
       "\n",
       ".sk-estimator-doc-link.fitted,\n",
       "a:link.sk-estimator-doc-link.fitted,\n",
       "a:visited.sk-estimator-doc-link.fitted {\n",
       "  /* fitted */\n",
       "  border: var(--sklearn-color-fitted-level-1) 1pt solid;\n",
       "  color: var(--sklearn-color-fitted-level-1);\n",
       "}\n",
       "\n",
       "/* On hover */\n",
       "div.sk-estimator:hover .sk-estimator-doc-link:hover,\n",
       ".sk-estimator-doc-link:hover,\n",
       "div.sk-label-container:hover .sk-estimator-doc-link:hover,\n",
       ".sk-estimator-doc-link:hover {\n",
       "  /* unfitted */\n",
       "  background-color: var(--sklearn-color-unfitted-level-3);\n",
       "  color: var(--sklearn-color-background);\n",
       "  text-decoration: none;\n",
       "}\n",
       "\n",
       "div.sk-estimator.fitted:hover .sk-estimator-doc-link.fitted:hover,\n",
       ".sk-estimator-doc-link.fitted:hover,\n",
       "div.sk-label-container:hover .sk-estimator-doc-link.fitted:hover,\n",
       ".sk-estimator-doc-link.fitted:hover {\n",
       "  /* fitted */\n",
       "  background-color: var(--sklearn-color-fitted-level-3);\n",
       "  color: var(--sklearn-color-background);\n",
       "  text-decoration: none;\n",
       "}\n",
       "\n",
       "/* Span, style for the box shown on hovering the info icon */\n",
       ".sk-estimator-doc-link span {\n",
       "  display: none;\n",
       "  z-index: 9999;\n",
       "  position: relative;\n",
       "  font-weight: normal;\n",
       "  right: .2ex;\n",
       "  padding: .5ex;\n",
       "  margin: .5ex;\n",
       "  width: min-content;\n",
       "  min-width: 20ex;\n",
       "  max-width: 50ex;\n",
       "  color: var(--sklearn-color-text);\n",
       "  box-shadow: 2pt 2pt 4pt #999;\n",
       "  /* unfitted */\n",
       "  background: var(--sklearn-color-unfitted-level-0);\n",
       "  border: .5pt solid var(--sklearn-color-unfitted-level-3);\n",
       "}\n",
       "\n",
       ".sk-estimator-doc-link.fitted span {\n",
       "  /* fitted */\n",
       "  background: var(--sklearn-color-fitted-level-0);\n",
       "  border: var(--sklearn-color-fitted-level-3);\n",
       "}\n",
       "\n",
       ".sk-estimator-doc-link:hover span {\n",
       "  display: block;\n",
       "}\n",
       "\n",
       "/* \"?\"-specific style due to the `<a>` HTML tag */\n",
       "\n",
       "#sk-container-id-1 a.estimator_doc_link {\n",
       "  float: right;\n",
       "  font-size: 1rem;\n",
       "  line-height: 1em;\n",
       "  font-family: monospace;\n",
       "  background-color: var(--sklearn-color-background);\n",
       "  border-radius: 1rem;\n",
       "  height: 1rem;\n",
       "  width: 1rem;\n",
       "  text-decoration: none;\n",
       "  /* unfitted */\n",
       "  color: var(--sklearn-color-unfitted-level-1);\n",
       "  border: var(--sklearn-color-unfitted-level-1) 1pt solid;\n",
       "}\n",
       "\n",
       "#sk-container-id-1 a.estimator_doc_link.fitted {\n",
       "  /* fitted */\n",
       "  border: var(--sklearn-color-fitted-level-1) 1pt solid;\n",
       "  color: var(--sklearn-color-fitted-level-1);\n",
       "}\n",
       "\n",
       "/* On hover */\n",
       "#sk-container-id-1 a.estimator_doc_link:hover {\n",
       "  /* unfitted */\n",
       "  background-color: var(--sklearn-color-unfitted-level-3);\n",
       "  color: var(--sklearn-color-background);\n",
       "  text-decoration: none;\n",
       "}\n",
       "\n",
       "#sk-container-id-1 a.estimator_doc_link.fitted:hover {\n",
       "  /* fitted */\n",
       "  background-color: var(--sklearn-color-fitted-level-3);\n",
       "}\n",
       "</style><div id=\"sk-container-id-1\" class=\"sk-top-container\"><div class=\"sk-text-repr-fallback\"><pre>XGBClassifier(base_score=None, booster=None, callbacks=None,\n",
       "              colsample_bylevel=None, colsample_bynode=None,\n",
       "              colsample_bytree=None, device=None, early_stopping_rounds=None,\n",
       "              enable_categorical=False, eval_metric=None, feature_types=None,\n",
       "              gamma=None, grow_policy=None, importance_type=None,\n",
       "              interaction_constraints=None, learning_rate=None, max_bin=None,\n",
       "              max_cat_threshold=None, max_cat_to_onehot=None,\n",
       "              max_delta_step=None, max_depth=None, max_leaves=None,\n",
       "              min_child_weight=None, missing=nan, monotone_constraints=None,\n",
       "              multi_strategy=None, n_estimators=None, n_jobs=None,\n",
       "              num_parallel_tree=None, random_state=None, ...)</pre><b>In a Jupyter environment, please rerun this cell to show the HTML representation or trust the notebook. <br />On GitHub, the HTML representation is unable to render, please try loading this page with nbviewer.org.</b></div><div class=\"sk-container\" hidden><div class=\"sk-item\"><div class=\"sk-estimator fitted sk-toggleable\"><input class=\"sk-toggleable__control sk-hidden--visually\" id=\"sk-estimator-id-1\" type=\"checkbox\" checked><label for=\"sk-estimator-id-1\" class=\"sk-toggleable__label fitted sk-toggleable__label-arrow\"><div><div>XGBClassifier</div></div><div><span class=\"sk-estimator-doc-link fitted\">i<span>Fitted</span></span></div></label><div class=\"sk-toggleable__content fitted\"><pre>XGBClassifier(base_score=None, booster=None, callbacks=None,\n",
       "              colsample_bylevel=None, colsample_bynode=None,\n",
       "              colsample_bytree=None, device=None, early_stopping_rounds=None,\n",
       "              enable_categorical=False, eval_metric=None, feature_types=None,\n",
       "              gamma=None, grow_policy=None, importance_type=None,\n",
       "              interaction_constraints=None, learning_rate=None, max_bin=None,\n",
       "              max_cat_threshold=None, max_cat_to_onehot=None,\n",
       "              max_delta_step=None, max_depth=None, max_leaves=None,\n",
       "              min_child_weight=None, missing=nan, monotone_constraints=None,\n",
       "              multi_strategy=None, n_estimators=None, n_jobs=None,\n",
       "              num_parallel_tree=None, random_state=None, ...)</pre></div> </div></div></div></div>"
      ],
      "text/plain": [
       "XGBClassifier(base_score=None, booster=None, callbacks=None,\n",
       "              colsample_bylevel=None, colsample_bynode=None,\n",
       "              colsample_bytree=None, device=None, early_stopping_rounds=None,\n",
       "              enable_categorical=False, eval_metric=None, feature_types=None,\n",
       "              gamma=None, grow_policy=None, importance_type=None,\n",
       "              interaction_constraints=None, learning_rate=None, max_bin=None,\n",
       "              max_cat_threshold=None, max_cat_to_onehot=None,\n",
       "              max_delta_step=None, max_depth=None, max_leaves=None,\n",
       "              min_child_weight=None, missing=nan, monotone_constraints=None,\n",
       "              multi_strategy=None, n_estimators=None, n_jobs=None,\n",
       "              num_parallel_tree=None, random_state=None, ...)"
      ]
     },
     "execution_count": 17,
     "metadata": {},
     "output_type": "execute_result"
    }
   ],
   "source": [
    "XGBC_model = xgb.XGBClassifier()\n",
    "XGBC_model.fit(X_train, y_train)"
   ]
  },
  {
   "cell_type": "code",
   "execution_count": 18,
   "id": "ee70664d-e81a-4e17-be9e-ac5e0e2cffe8",
   "metadata": {
    "ExecuteTime": {
     "end_time": "2025-03-05T14:28:56.316556Z",
     "start_time": "2025-03-05T14:28:56.288448Z"
    }
   },
   "outputs": [
    {
     "name": "stdout",
     "output_type": "stream",
     "text": [
      "train Accuracy: 1.0\n",
      "test Accuracy:  0.77\n"
     ]
    }
   ],
   "source": [
    "y_pred = XGBC_model.predict(X_train)\n",
    "accuracy = accuracy_score(y_train, y_pred)\n",
    "print(f'train Accuracy: {accuracy:.3}')\n",
    "y_pred = XGBC_model.predict(X_test)\n",
    "XGBC_test_accuracy = accuracy_score(y_test, y_pred)\n",
    "print(f'test Accuracy:  {XGBC_test_accuracy:.3}')"
   ]
  },
  {
   "cell_type": "markdown",
   "id": "35bc866c-4ff2-4b04-9eec-9efc3e0fddc9",
   "metadata": {},
   "source": [
    "*****RF (random forest)*****"
   ]
  },
  {
   "cell_type": "code",
   "execution_count": 19,
   "id": "931f5aac-d411-4c77-ad5d-b54ebed1f0ed",
   "metadata": {
    "ExecuteTime": {
     "end_time": "2025-03-05T14:37:47.952653Z",
     "start_time": "2025-03-05T14:37:47.870133Z"
    }
   },
   "outputs": [
    {
     "data": {
      "text/html": [
       "<style>#sk-container-id-2 {\n",
       "  /* Definition of color scheme common for light and dark mode */\n",
       "  --sklearn-color-text: #000;\n",
       "  --sklearn-color-text-muted: #666;\n",
       "  --sklearn-color-line: gray;\n",
       "  /* Definition of color scheme for unfitted estimators */\n",
       "  --sklearn-color-unfitted-level-0: #fff5e6;\n",
       "  --sklearn-color-unfitted-level-1: #f6e4d2;\n",
       "  --sklearn-color-unfitted-level-2: #ffe0b3;\n",
       "  --sklearn-color-unfitted-level-3: chocolate;\n",
       "  /* Definition of color scheme for fitted estimators */\n",
       "  --sklearn-color-fitted-level-0: #f0f8ff;\n",
       "  --sklearn-color-fitted-level-1: #d4ebff;\n",
       "  --sklearn-color-fitted-level-2: #b3dbfd;\n",
       "  --sklearn-color-fitted-level-3: cornflowerblue;\n",
       "\n",
       "  /* Specific color for light theme */\n",
       "  --sklearn-color-text-on-default-background: var(--sg-text-color, var(--theme-code-foreground, var(--jp-content-font-color1, black)));\n",
       "  --sklearn-color-background: var(--sg-background-color, var(--theme-background, var(--jp-layout-color0, white)));\n",
       "  --sklearn-color-border-box: var(--sg-text-color, var(--theme-code-foreground, var(--jp-content-font-color1, black)));\n",
       "  --sklearn-color-icon: #696969;\n",
       "\n",
       "  @media (prefers-color-scheme: dark) {\n",
       "    /* Redefinition of color scheme for dark theme */\n",
       "    --sklearn-color-text-on-default-background: var(--sg-text-color, var(--theme-code-foreground, var(--jp-content-font-color1, white)));\n",
       "    --sklearn-color-background: var(--sg-background-color, var(--theme-background, var(--jp-layout-color0, #111)));\n",
       "    --sklearn-color-border-box: var(--sg-text-color, var(--theme-code-foreground, var(--jp-content-font-color1, white)));\n",
       "    --sklearn-color-icon: #878787;\n",
       "  }\n",
       "}\n",
       "\n",
       "#sk-container-id-2 {\n",
       "  color: var(--sklearn-color-text);\n",
       "}\n",
       "\n",
       "#sk-container-id-2 pre {\n",
       "  padding: 0;\n",
       "}\n",
       "\n",
       "#sk-container-id-2 input.sk-hidden--visually {\n",
       "  border: 0;\n",
       "  clip: rect(1px 1px 1px 1px);\n",
       "  clip: rect(1px, 1px, 1px, 1px);\n",
       "  height: 1px;\n",
       "  margin: -1px;\n",
       "  overflow: hidden;\n",
       "  padding: 0;\n",
       "  position: absolute;\n",
       "  width: 1px;\n",
       "}\n",
       "\n",
       "#sk-container-id-2 div.sk-dashed-wrapped {\n",
       "  border: 1px dashed var(--sklearn-color-line);\n",
       "  margin: 0 0.4em 0.5em 0.4em;\n",
       "  box-sizing: border-box;\n",
       "  padding-bottom: 0.4em;\n",
       "  background-color: var(--sklearn-color-background);\n",
       "}\n",
       "\n",
       "#sk-container-id-2 div.sk-container {\n",
       "  /* jupyter's `normalize.less` sets `[hidden] { display: none; }`\n",
       "     but bootstrap.min.css set `[hidden] { display: none !important; }`\n",
       "     so we also need the `!important` here to be able to override the\n",
       "     default hidden behavior on the sphinx rendered scikit-learn.org.\n",
       "     See: https://github.com/scikit-learn/scikit-learn/issues/21755 */\n",
       "  display: inline-block !important;\n",
       "  position: relative;\n",
       "}\n",
       "\n",
       "#sk-container-id-2 div.sk-text-repr-fallback {\n",
       "  display: none;\n",
       "}\n",
       "\n",
       "div.sk-parallel-item,\n",
       "div.sk-serial,\n",
       "div.sk-item {\n",
       "  /* draw centered vertical line to link estimators */\n",
       "  background-image: linear-gradient(var(--sklearn-color-text-on-default-background), var(--sklearn-color-text-on-default-background));\n",
       "  background-size: 2px 100%;\n",
       "  background-repeat: no-repeat;\n",
       "  background-position: center center;\n",
       "}\n",
       "\n",
       "/* Parallel-specific style estimator block */\n",
       "\n",
       "#sk-container-id-2 div.sk-parallel-item::after {\n",
       "  content: \"\";\n",
       "  width: 100%;\n",
       "  border-bottom: 2px solid var(--sklearn-color-text-on-default-background);\n",
       "  flex-grow: 1;\n",
       "}\n",
       "\n",
       "#sk-container-id-2 div.sk-parallel {\n",
       "  display: flex;\n",
       "  align-items: stretch;\n",
       "  justify-content: center;\n",
       "  background-color: var(--sklearn-color-background);\n",
       "  position: relative;\n",
       "}\n",
       "\n",
       "#sk-container-id-2 div.sk-parallel-item {\n",
       "  display: flex;\n",
       "  flex-direction: column;\n",
       "}\n",
       "\n",
       "#sk-container-id-2 div.sk-parallel-item:first-child::after {\n",
       "  align-self: flex-end;\n",
       "  width: 50%;\n",
       "}\n",
       "\n",
       "#sk-container-id-2 div.sk-parallel-item:last-child::after {\n",
       "  align-self: flex-start;\n",
       "  width: 50%;\n",
       "}\n",
       "\n",
       "#sk-container-id-2 div.sk-parallel-item:only-child::after {\n",
       "  width: 0;\n",
       "}\n",
       "\n",
       "/* Serial-specific style estimator block */\n",
       "\n",
       "#sk-container-id-2 div.sk-serial {\n",
       "  display: flex;\n",
       "  flex-direction: column;\n",
       "  align-items: center;\n",
       "  background-color: var(--sklearn-color-background);\n",
       "  padding-right: 1em;\n",
       "  padding-left: 1em;\n",
       "}\n",
       "\n",
       "\n",
       "/* Toggleable style: style used for estimator/Pipeline/ColumnTransformer box that is\n",
       "clickable and can be expanded/collapsed.\n",
       "- Pipeline and ColumnTransformer use this feature and define the default style\n",
       "- Estimators will overwrite some part of the style using the `sk-estimator` class\n",
       "*/\n",
       "\n",
       "/* Pipeline and ColumnTransformer style (default) */\n",
       "\n",
       "#sk-container-id-2 div.sk-toggleable {\n",
       "  /* Default theme specific background. It is overwritten whether we have a\n",
       "  specific estimator or a Pipeline/ColumnTransformer */\n",
       "  background-color: var(--sklearn-color-background);\n",
       "}\n",
       "\n",
       "/* Toggleable label */\n",
       "#sk-container-id-2 label.sk-toggleable__label {\n",
       "  cursor: pointer;\n",
       "  display: flex;\n",
       "  width: 100%;\n",
       "  margin-bottom: 0;\n",
       "  padding: 0.5em;\n",
       "  box-sizing: border-box;\n",
       "  text-align: center;\n",
       "  align-items: start;\n",
       "  justify-content: space-between;\n",
       "  gap: 0.5em;\n",
       "}\n",
       "\n",
       "#sk-container-id-2 label.sk-toggleable__label .caption {\n",
       "  font-size: 0.6rem;\n",
       "  font-weight: lighter;\n",
       "  color: var(--sklearn-color-text-muted);\n",
       "}\n",
       "\n",
       "#sk-container-id-2 label.sk-toggleable__label-arrow:before {\n",
       "  /* Arrow on the left of the label */\n",
       "  content: \"▸\";\n",
       "  float: left;\n",
       "  margin-right: 0.25em;\n",
       "  color: var(--sklearn-color-icon);\n",
       "}\n",
       "\n",
       "#sk-container-id-2 label.sk-toggleable__label-arrow:hover:before {\n",
       "  color: var(--sklearn-color-text);\n",
       "}\n",
       "\n",
       "/* Toggleable content - dropdown */\n",
       "\n",
       "#sk-container-id-2 div.sk-toggleable__content {\n",
       "  max-height: 0;\n",
       "  max-width: 0;\n",
       "  overflow: hidden;\n",
       "  text-align: left;\n",
       "  /* unfitted */\n",
       "  background-color: var(--sklearn-color-unfitted-level-0);\n",
       "}\n",
       "\n",
       "#sk-container-id-2 div.sk-toggleable__content.fitted {\n",
       "  /* fitted */\n",
       "  background-color: var(--sklearn-color-fitted-level-0);\n",
       "}\n",
       "\n",
       "#sk-container-id-2 div.sk-toggleable__content pre {\n",
       "  margin: 0.2em;\n",
       "  border-radius: 0.25em;\n",
       "  color: var(--sklearn-color-text);\n",
       "  /* unfitted */\n",
       "  background-color: var(--sklearn-color-unfitted-level-0);\n",
       "}\n",
       "\n",
       "#sk-container-id-2 div.sk-toggleable__content.fitted pre {\n",
       "  /* unfitted */\n",
       "  background-color: var(--sklearn-color-fitted-level-0);\n",
       "}\n",
       "\n",
       "#sk-container-id-2 input.sk-toggleable__control:checked~div.sk-toggleable__content {\n",
       "  /* Expand drop-down */\n",
       "  max-height: 200px;\n",
       "  max-width: 100%;\n",
       "  overflow: auto;\n",
       "}\n",
       "\n",
       "#sk-container-id-2 input.sk-toggleable__control:checked~label.sk-toggleable__label-arrow:before {\n",
       "  content: \"▾\";\n",
       "}\n",
       "\n",
       "/* Pipeline/ColumnTransformer-specific style */\n",
       "\n",
       "#sk-container-id-2 div.sk-label input.sk-toggleable__control:checked~label.sk-toggleable__label {\n",
       "  color: var(--sklearn-color-text);\n",
       "  background-color: var(--sklearn-color-unfitted-level-2);\n",
       "}\n",
       "\n",
       "#sk-container-id-2 div.sk-label.fitted input.sk-toggleable__control:checked~label.sk-toggleable__label {\n",
       "  background-color: var(--sklearn-color-fitted-level-2);\n",
       "}\n",
       "\n",
       "/* Estimator-specific style */\n",
       "\n",
       "/* Colorize estimator box */\n",
       "#sk-container-id-2 div.sk-estimator input.sk-toggleable__control:checked~label.sk-toggleable__label {\n",
       "  /* unfitted */\n",
       "  background-color: var(--sklearn-color-unfitted-level-2);\n",
       "}\n",
       "\n",
       "#sk-container-id-2 div.sk-estimator.fitted input.sk-toggleable__control:checked~label.sk-toggleable__label {\n",
       "  /* fitted */\n",
       "  background-color: var(--sklearn-color-fitted-level-2);\n",
       "}\n",
       "\n",
       "#sk-container-id-2 div.sk-label label.sk-toggleable__label,\n",
       "#sk-container-id-2 div.sk-label label {\n",
       "  /* The background is the default theme color */\n",
       "  color: var(--sklearn-color-text-on-default-background);\n",
       "}\n",
       "\n",
       "/* On hover, darken the color of the background */\n",
       "#sk-container-id-2 div.sk-label:hover label.sk-toggleable__label {\n",
       "  color: var(--sklearn-color-text);\n",
       "  background-color: var(--sklearn-color-unfitted-level-2);\n",
       "}\n",
       "\n",
       "/* Label box, darken color on hover, fitted */\n",
       "#sk-container-id-2 div.sk-label.fitted:hover label.sk-toggleable__label.fitted {\n",
       "  color: var(--sklearn-color-text);\n",
       "  background-color: var(--sklearn-color-fitted-level-2);\n",
       "}\n",
       "\n",
       "/* Estimator label */\n",
       "\n",
       "#sk-container-id-2 div.sk-label label {\n",
       "  font-family: monospace;\n",
       "  font-weight: bold;\n",
       "  display: inline-block;\n",
       "  line-height: 1.2em;\n",
       "}\n",
       "\n",
       "#sk-container-id-2 div.sk-label-container {\n",
       "  text-align: center;\n",
       "}\n",
       "\n",
       "/* Estimator-specific */\n",
       "#sk-container-id-2 div.sk-estimator {\n",
       "  font-family: monospace;\n",
       "  border: 1px dotted var(--sklearn-color-border-box);\n",
       "  border-radius: 0.25em;\n",
       "  box-sizing: border-box;\n",
       "  margin-bottom: 0.5em;\n",
       "  /* unfitted */\n",
       "  background-color: var(--sklearn-color-unfitted-level-0);\n",
       "}\n",
       "\n",
       "#sk-container-id-2 div.sk-estimator.fitted {\n",
       "  /* fitted */\n",
       "  background-color: var(--sklearn-color-fitted-level-0);\n",
       "}\n",
       "\n",
       "/* on hover */\n",
       "#sk-container-id-2 div.sk-estimator:hover {\n",
       "  /* unfitted */\n",
       "  background-color: var(--sklearn-color-unfitted-level-2);\n",
       "}\n",
       "\n",
       "#sk-container-id-2 div.sk-estimator.fitted:hover {\n",
       "  /* fitted */\n",
       "  background-color: var(--sklearn-color-fitted-level-2);\n",
       "}\n",
       "\n",
       "/* Specification for estimator info (e.g. \"i\" and \"?\") */\n",
       "\n",
       "/* Common style for \"i\" and \"?\" */\n",
       "\n",
       ".sk-estimator-doc-link,\n",
       "a:link.sk-estimator-doc-link,\n",
       "a:visited.sk-estimator-doc-link {\n",
       "  float: right;\n",
       "  font-size: smaller;\n",
       "  line-height: 1em;\n",
       "  font-family: monospace;\n",
       "  background-color: var(--sklearn-color-background);\n",
       "  border-radius: 1em;\n",
       "  height: 1em;\n",
       "  width: 1em;\n",
       "  text-decoration: none !important;\n",
       "  margin-left: 0.5em;\n",
       "  text-align: center;\n",
       "  /* unfitted */\n",
       "  border: var(--sklearn-color-unfitted-level-1) 1pt solid;\n",
       "  color: var(--sklearn-color-unfitted-level-1);\n",
       "}\n",
       "\n",
       ".sk-estimator-doc-link.fitted,\n",
       "a:link.sk-estimator-doc-link.fitted,\n",
       "a:visited.sk-estimator-doc-link.fitted {\n",
       "  /* fitted */\n",
       "  border: var(--sklearn-color-fitted-level-1) 1pt solid;\n",
       "  color: var(--sklearn-color-fitted-level-1);\n",
       "}\n",
       "\n",
       "/* On hover */\n",
       "div.sk-estimator:hover .sk-estimator-doc-link:hover,\n",
       ".sk-estimator-doc-link:hover,\n",
       "div.sk-label-container:hover .sk-estimator-doc-link:hover,\n",
       ".sk-estimator-doc-link:hover {\n",
       "  /* unfitted */\n",
       "  background-color: var(--sklearn-color-unfitted-level-3);\n",
       "  color: var(--sklearn-color-background);\n",
       "  text-decoration: none;\n",
       "}\n",
       "\n",
       "div.sk-estimator.fitted:hover .sk-estimator-doc-link.fitted:hover,\n",
       ".sk-estimator-doc-link.fitted:hover,\n",
       "div.sk-label-container:hover .sk-estimator-doc-link.fitted:hover,\n",
       ".sk-estimator-doc-link.fitted:hover {\n",
       "  /* fitted */\n",
       "  background-color: var(--sklearn-color-fitted-level-3);\n",
       "  color: var(--sklearn-color-background);\n",
       "  text-decoration: none;\n",
       "}\n",
       "\n",
       "/* Span, style for the box shown on hovering the info icon */\n",
       ".sk-estimator-doc-link span {\n",
       "  display: none;\n",
       "  z-index: 9999;\n",
       "  position: relative;\n",
       "  font-weight: normal;\n",
       "  right: .2ex;\n",
       "  padding: .5ex;\n",
       "  margin: .5ex;\n",
       "  width: min-content;\n",
       "  min-width: 20ex;\n",
       "  max-width: 50ex;\n",
       "  color: var(--sklearn-color-text);\n",
       "  box-shadow: 2pt 2pt 4pt #999;\n",
       "  /* unfitted */\n",
       "  background: var(--sklearn-color-unfitted-level-0);\n",
       "  border: .5pt solid var(--sklearn-color-unfitted-level-3);\n",
       "}\n",
       "\n",
       ".sk-estimator-doc-link.fitted span {\n",
       "  /* fitted */\n",
       "  background: var(--sklearn-color-fitted-level-0);\n",
       "  border: var(--sklearn-color-fitted-level-3);\n",
       "}\n",
       "\n",
       ".sk-estimator-doc-link:hover span {\n",
       "  display: block;\n",
       "}\n",
       "\n",
       "/* \"?\"-specific style due to the `<a>` HTML tag */\n",
       "\n",
       "#sk-container-id-2 a.estimator_doc_link {\n",
       "  float: right;\n",
       "  font-size: 1rem;\n",
       "  line-height: 1em;\n",
       "  font-family: monospace;\n",
       "  background-color: var(--sklearn-color-background);\n",
       "  border-radius: 1rem;\n",
       "  height: 1rem;\n",
       "  width: 1rem;\n",
       "  text-decoration: none;\n",
       "  /* unfitted */\n",
       "  color: var(--sklearn-color-unfitted-level-1);\n",
       "  border: var(--sklearn-color-unfitted-level-1) 1pt solid;\n",
       "}\n",
       "\n",
       "#sk-container-id-2 a.estimator_doc_link.fitted {\n",
       "  /* fitted */\n",
       "  border: var(--sklearn-color-fitted-level-1) 1pt solid;\n",
       "  color: var(--sklearn-color-fitted-level-1);\n",
       "}\n",
       "\n",
       "/* On hover */\n",
       "#sk-container-id-2 a.estimator_doc_link:hover {\n",
       "  /* unfitted */\n",
       "  background-color: var(--sklearn-color-unfitted-level-3);\n",
       "  color: var(--sklearn-color-background);\n",
       "  text-decoration: none;\n",
       "}\n",
       "\n",
       "#sk-container-id-2 a.estimator_doc_link.fitted:hover {\n",
       "  /* fitted */\n",
       "  background-color: var(--sklearn-color-fitted-level-3);\n",
       "}\n",
       "</style><div id=\"sk-container-id-2\" class=\"sk-top-container\"><div class=\"sk-text-repr-fallback\"><pre>RandomForestClassifier(random_state=42)</pre><b>In a Jupyter environment, please rerun this cell to show the HTML representation or trust the notebook. <br />On GitHub, the HTML representation is unable to render, please try loading this page with nbviewer.org.</b></div><div class=\"sk-container\" hidden><div class=\"sk-item\"><div class=\"sk-estimator fitted sk-toggleable\"><input class=\"sk-toggleable__control sk-hidden--visually\" id=\"sk-estimator-id-2\" type=\"checkbox\" checked><label for=\"sk-estimator-id-2\" class=\"sk-toggleable__label fitted sk-toggleable__label-arrow\"><div><div>RandomForestClassifier</div></div><div><a class=\"sk-estimator-doc-link fitted\" rel=\"noreferrer\" target=\"_blank\" href=\"https://scikit-learn.org/1.6/modules/generated/sklearn.ensemble.RandomForestClassifier.html\">?<span>Documentation for RandomForestClassifier</span></a><span class=\"sk-estimator-doc-link fitted\">i<span>Fitted</span></span></div></label><div class=\"sk-toggleable__content fitted\"><pre>RandomForestClassifier(random_state=42)</pre></div> </div></div></div></div>"
      ],
      "text/plain": [
       "RandomForestClassifier(random_state=42)"
      ]
     },
     "execution_count": 19,
     "metadata": {},
     "output_type": "execute_result"
    }
   ],
   "source": [
    "RF_model=RandomForestClassifier(n_estimators=100, random_state=42)\n",
    "RF_model.fit(X_train, y_train)"
   ]
  },
  {
   "cell_type": "code",
   "execution_count": 20,
   "id": "ca5154d3-c683-4916-be9a-31dbf8a957ae",
   "metadata": {
    "ExecuteTime": {
     "end_time": "2025-03-05T14:37:52.110743Z",
     "start_time": "2025-03-05T14:37:52.090294Z"
    }
   },
   "outputs": [
    {
     "name": "stdout",
     "output_type": "stream",
     "text": [
      "train Accuracy: 1.0\n",
      "test Accuracy:  0.836\n"
     ]
    }
   ],
   "source": [
    "y_pred = RF_model.predict(X_train)\n",
    "accuracy = accuracy_score(y_train, y_pred)\n",
    "print(f'train Accuracy: {accuracy:.3}')\n",
    "y_pred = RF_model.predict(X_test)\n",
    "RF_test_accuracy = accuracy_score(y_test, y_pred)\n",
    "print(f'test Accuracy:  {RF_test_accuracy:.3}')"
   ]
  },
  {
   "cell_type": "markdown",
   "id": "563f5fcc-30f0-4ea7-97af-5fc728efbdbf",
   "metadata": {},
   "source": [
    "*****LR (logistic regression classifier)*****"
   ]
  },
  {
   "cell_type": "code",
   "execution_count": 21,
   "id": "188e2ebb-3c07-43c5-9365-b7ec26943110",
   "metadata": {
    "ExecuteTime": {
     "end_time": "2025-03-05T14:37:55.539982Z",
     "start_time": "2025-03-05T14:37:55.499348Z"
    }
   },
   "outputs": [
    {
     "data": {
      "text/html": [
       "<style>#sk-container-id-3 {\n",
       "  /* Definition of color scheme common for light and dark mode */\n",
       "  --sklearn-color-text: #000;\n",
       "  --sklearn-color-text-muted: #666;\n",
       "  --sklearn-color-line: gray;\n",
       "  /* Definition of color scheme for unfitted estimators */\n",
       "  --sklearn-color-unfitted-level-0: #fff5e6;\n",
       "  --sklearn-color-unfitted-level-1: #f6e4d2;\n",
       "  --sklearn-color-unfitted-level-2: #ffe0b3;\n",
       "  --sklearn-color-unfitted-level-3: chocolate;\n",
       "  /* Definition of color scheme for fitted estimators */\n",
       "  --sklearn-color-fitted-level-0: #f0f8ff;\n",
       "  --sklearn-color-fitted-level-1: #d4ebff;\n",
       "  --sklearn-color-fitted-level-2: #b3dbfd;\n",
       "  --sklearn-color-fitted-level-3: cornflowerblue;\n",
       "\n",
       "  /* Specific color for light theme */\n",
       "  --sklearn-color-text-on-default-background: var(--sg-text-color, var(--theme-code-foreground, var(--jp-content-font-color1, black)));\n",
       "  --sklearn-color-background: var(--sg-background-color, var(--theme-background, var(--jp-layout-color0, white)));\n",
       "  --sklearn-color-border-box: var(--sg-text-color, var(--theme-code-foreground, var(--jp-content-font-color1, black)));\n",
       "  --sklearn-color-icon: #696969;\n",
       "\n",
       "  @media (prefers-color-scheme: dark) {\n",
       "    /* Redefinition of color scheme for dark theme */\n",
       "    --sklearn-color-text-on-default-background: var(--sg-text-color, var(--theme-code-foreground, var(--jp-content-font-color1, white)));\n",
       "    --sklearn-color-background: var(--sg-background-color, var(--theme-background, var(--jp-layout-color0, #111)));\n",
       "    --sklearn-color-border-box: var(--sg-text-color, var(--theme-code-foreground, var(--jp-content-font-color1, white)));\n",
       "    --sklearn-color-icon: #878787;\n",
       "  }\n",
       "}\n",
       "\n",
       "#sk-container-id-3 {\n",
       "  color: var(--sklearn-color-text);\n",
       "}\n",
       "\n",
       "#sk-container-id-3 pre {\n",
       "  padding: 0;\n",
       "}\n",
       "\n",
       "#sk-container-id-3 input.sk-hidden--visually {\n",
       "  border: 0;\n",
       "  clip: rect(1px 1px 1px 1px);\n",
       "  clip: rect(1px, 1px, 1px, 1px);\n",
       "  height: 1px;\n",
       "  margin: -1px;\n",
       "  overflow: hidden;\n",
       "  padding: 0;\n",
       "  position: absolute;\n",
       "  width: 1px;\n",
       "}\n",
       "\n",
       "#sk-container-id-3 div.sk-dashed-wrapped {\n",
       "  border: 1px dashed var(--sklearn-color-line);\n",
       "  margin: 0 0.4em 0.5em 0.4em;\n",
       "  box-sizing: border-box;\n",
       "  padding-bottom: 0.4em;\n",
       "  background-color: var(--sklearn-color-background);\n",
       "}\n",
       "\n",
       "#sk-container-id-3 div.sk-container {\n",
       "  /* jupyter's `normalize.less` sets `[hidden] { display: none; }`\n",
       "     but bootstrap.min.css set `[hidden] { display: none !important; }`\n",
       "     so we also need the `!important` here to be able to override the\n",
       "     default hidden behavior on the sphinx rendered scikit-learn.org.\n",
       "     See: https://github.com/scikit-learn/scikit-learn/issues/21755 */\n",
       "  display: inline-block !important;\n",
       "  position: relative;\n",
       "}\n",
       "\n",
       "#sk-container-id-3 div.sk-text-repr-fallback {\n",
       "  display: none;\n",
       "}\n",
       "\n",
       "div.sk-parallel-item,\n",
       "div.sk-serial,\n",
       "div.sk-item {\n",
       "  /* draw centered vertical line to link estimators */\n",
       "  background-image: linear-gradient(var(--sklearn-color-text-on-default-background), var(--sklearn-color-text-on-default-background));\n",
       "  background-size: 2px 100%;\n",
       "  background-repeat: no-repeat;\n",
       "  background-position: center center;\n",
       "}\n",
       "\n",
       "/* Parallel-specific style estimator block */\n",
       "\n",
       "#sk-container-id-3 div.sk-parallel-item::after {\n",
       "  content: \"\";\n",
       "  width: 100%;\n",
       "  border-bottom: 2px solid var(--sklearn-color-text-on-default-background);\n",
       "  flex-grow: 1;\n",
       "}\n",
       "\n",
       "#sk-container-id-3 div.sk-parallel {\n",
       "  display: flex;\n",
       "  align-items: stretch;\n",
       "  justify-content: center;\n",
       "  background-color: var(--sklearn-color-background);\n",
       "  position: relative;\n",
       "}\n",
       "\n",
       "#sk-container-id-3 div.sk-parallel-item {\n",
       "  display: flex;\n",
       "  flex-direction: column;\n",
       "}\n",
       "\n",
       "#sk-container-id-3 div.sk-parallel-item:first-child::after {\n",
       "  align-self: flex-end;\n",
       "  width: 50%;\n",
       "}\n",
       "\n",
       "#sk-container-id-3 div.sk-parallel-item:last-child::after {\n",
       "  align-self: flex-start;\n",
       "  width: 50%;\n",
       "}\n",
       "\n",
       "#sk-container-id-3 div.sk-parallel-item:only-child::after {\n",
       "  width: 0;\n",
       "}\n",
       "\n",
       "/* Serial-specific style estimator block */\n",
       "\n",
       "#sk-container-id-3 div.sk-serial {\n",
       "  display: flex;\n",
       "  flex-direction: column;\n",
       "  align-items: center;\n",
       "  background-color: var(--sklearn-color-background);\n",
       "  padding-right: 1em;\n",
       "  padding-left: 1em;\n",
       "}\n",
       "\n",
       "\n",
       "/* Toggleable style: style used for estimator/Pipeline/ColumnTransformer box that is\n",
       "clickable and can be expanded/collapsed.\n",
       "- Pipeline and ColumnTransformer use this feature and define the default style\n",
       "- Estimators will overwrite some part of the style using the `sk-estimator` class\n",
       "*/\n",
       "\n",
       "/* Pipeline and ColumnTransformer style (default) */\n",
       "\n",
       "#sk-container-id-3 div.sk-toggleable {\n",
       "  /* Default theme specific background. It is overwritten whether we have a\n",
       "  specific estimator or a Pipeline/ColumnTransformer */\n",
       "  background-color: var(--sklearn-color-background);\n",
       "}\n",
       "\n",
       "/* Toggleable label */\n",
       "#sk-container-id-3 label.sk-toggleable__label {\n",
       "  cursor: pointer;\n",
       "  display: flex;\n",
       "  width: 100%;\n",
       "  margin-bottom: 0;\n",
       "  padding: 0.5em;\n",
       "  box-sizing: border-box;\n",
       "  text-align: center;\n",
       "  align-items: start;\n",
       "  justify-content: space-between;\n",
       "  gap: 0.5em;\n",
       "}\n",
       "\n",
       "#sk-container-id-3 label.sk-toggleable__label .caption {\n",
       "  font-size: 0.6rem;\n",
       "  font-weight: lighter;\n",
       "  color: var(--sklearn-color-text-muted);\n",
       "}\n",
       "\n",
       "#sk-container-id-3 label.sk-toggleable__label-arrow:before {\n",
       "  /* Arrow on the left of the label */\n",
       "  content: \"▸\";\n",
       "  float: left;\n",
       "  margin-right: 0.25em;\n",
       "  color: var(--sklearn-color-icon);\n",
       "}\n",
       "\n",
       "#sk-container-id-3 label.sk-toggleable__label-arrow:hover:before {\n",
       "  color: var(--sklearn-color-text);\n",
       "}\n",
       "\n",
       "/* Toggleable content - dropdown */\n",
       "\n",
       "#sk-container-id-3 div.sk-toggleable__content {\n",
       "  max-height: 0;\n",
       "  max-width: 0;\n",
       "  overflow: hidden;\n",
       "  text-align: left;\n",
       "  /* unfitted */\n",
       "  background-color: var(--sklearn-color-unfitted-level-0);\n",
       "}\n",
       "\n",
       "#sk-container-id-3 div.sk-toggleable__content.fitted {\n",
       "  /* fitted */\n",
       "  background-color: var(--sklearn-color-fitted-level-0);\n",
       "}\n",
       "\n",
       "#sk-container-id-3 div.sk-toggleable__content pre {\n",
       "  margin: 0.2em;\n",
       "  border-radius: 0.25em;\n",
       "  color: var(--sklearn-color-text);\n",
       "  /* unfitted */\n",
       "  background-color: var(--sklearn-color-unfitted-level-0);\n",
       "}\n",
       "\n",
       "#sk-container-id-3 div.sk-toggleable__content.fitted pre {\n",
       "  /* unfitted */\n",
       "  background-color: var(--sklearn-color-fitted-level-0);\n",
       "}\n",
       "\n",
       "#sk-container-id-3 input.sk-toggleable__control:checked~div.sk-toggleable__content {\n",
       "  /* Expand drop-down */\n",
       "  max-height: 200px;\n",
       "  max-width: 100%;\n",
       "  overflow: auto;\n",
       "}\n",
       "\n",
       "#sk-container-id-3 input.sk-toggleable__control:checked~label.sk-toggleable__label-arrow:before {\n",
       "  content: \"▾\";\n",
       "}\n",
       "\n",
       "/* Pipeline/ColumnTransformer-specific style */\n",
       "\n",
       "#sk-container-id-3 div.sk-label input.sk-toggleable__control:checked~label.sk-toggleable__label {\n",
       "  color: var(--sklearn-color-text);\n",
       "  background-color: var(--sklearn-color-unfitted-level-2);\n",
       "}\n",
       "\n",
       "#sk-container-id-3 div.sk-label.fitted input.sk-toggleable__control:checked~label.sk-toggleable__label {\n",
       "  background-color: var(--sklearn-color-fitted-level-2);\n",
       "}\n",
       "\n",
       "/* Estimator-specific style */\n",
       "\n",
       "/* Colorize estimator box */\n",
       "#sk-container-id-3 div.sk-estimator input.sk-toggleable__control:checked~label.sk-toggleable__label {\n",
       "  /* unfitted */\n",
       "  background-color: var(--sklearn-color-unfitted-level-2);\n",
       "}\n",
       "\n",
       "#sk-container-id-3 div.sk-estimator.fitted input.sk-toggleable__control:checked~label.sk-toggleable__label {\n",
       "  /* fitted */\n",
       "  background-color: var(--sklearn-color-fitted-level-2);\n",
       "}\n",
       "\n",
       "#sk-container-id-3 div.sk-label label.sk-toggleable__label,\n",
       "#sk-container-id-3 div.sk-label label {\n",
       "  /* The background is the default theme color */\n",
       "  color: var(--sklearn-color-text-on-default-background);\n",
       "}\n",
       "\n",
       "/* On hover, darken the color of the background */\n",
       "#sk-container-id-3 div.sk-label:hover label.sk-toggleable__label {\n",
       "  color: var(--sklearn-color-text);\n",
       "  background-color: var(--sklearn-color-unfitted-level-2);\n",
       "}\n",
       "\n",
       "/* Label box, darken color on hover, fitted */\n",
       "#sk-container-id-3 div.sk-label.fitted:hover label.sk-toggleable__label.fitted {\n",
       "  color: var(--sklearn-color-text);\n",
       "  background-color: var(--sklearn-color-fitted-level-2);\n",
       "}\n",
       "\n",
       "/* Estimator label */\n",
       "\n",
       "#sk-container-id-3 div.sk-label label {\n",
       "  font-family: monospace;\n",
       "  font-weight: bold;\n",
       "  display: inline-block;\n",
       "  line-height: 1.2em;\n",
       "}\n",
       "\n",
       "#sk-container-id-3 div.sk-label-container {\n",
       "  text-align: center;\n",
       "}\n",
       "\n",
       "/* Estimator-specific */\n",
       "#sk-container-id-3 div.sk-estimator {\n",
       "  font-family: monospace;\n",
       "  border: 1px dotted var(--sklearn-color-border-box);\n",
       "  border-radius: 0.25em;\n",
       "  box-sizing: border-box;\n",
       "  margin-bottom: 0.5em;\n",
       "  /* unfitted */\n",
       "  background-color: var(--sklearn-color-unfitted-level-0);\n",
       "}\n",
       "\n",
       "#sk-container-id-3 div.sk-estimator.fitted {\n",
       "  /* fitted */\n",
       "  background-color: var(--sklearn-color-fitted-level-0);\n",
       "}\n",
       "\n",
       "/* on hover */\n",
       "#sk-container-id-3 div.sk-estimator:hover {\n",
       "  /* unfitted */\n",
       "  background-color: var(--sklearn-color-unfitted-level-2);\n",
       "}\n",
       "\n",
       "#sk-container-id-3 div.sk-estimator.fitted:hover {\n",
       "  /* fitted */\n",
       "  background-color: var(--sklearn-color-fitted-level-2);\n",
       "}\n",
       "\n",
       "/* Specification for estimator info (e.g. \"i\" and \"?\") */\n",
       "\n",
       "/* Common style for \"i\" and \"?\" */\n",
       "\n",
       ".sk-estimator-doc-link,\n",
       "a:link.sk-estimator-doc-link,\n",
       "a:visited.sk-estimator-doc-link {\n",
       "  float: right;\n",
       "  font-size: smaller;\n",
       "  line-height: 1em;\n",
       "  font-family: monospace;\n",
       "  background-color: var(--sklearn-color-background);\n",
       "  border-radius: 1em;\n",
       "  height: 1em;\n",
       "  width: 1em;\n",
       "  text-decoration: none !important;\n",
       "  margin-left: 0.5em;\n",
       "  text-align: center;\n",
       "  /* unfitted */\n",
       "  border: var(--sklearn-color-unfitted-level-1) 1pt solid;\n",
       "  color: var(--sklearn-color-unfitted-level-1);\n",
       "}\n",
       "\n",
       ".sk-estimator-doc-link.fitted,\n",
       "a:link.sk-estimator-doc-link.fitted,\n",
       "a:visited.sk-estimator-doc-link.fitted {\n",
       "  /* fitted */\n",
       "  border: var(--sklearn-color-fitted-level-1) 1pt solid;\n",
       "  color: var(--sklearn-color-fitted-level-1);\n",
       "}\n",
       "\n",
       "/* On hover */\n",
       "div.sk-estimator:hover .sk-estimator-doc-link:hover,\n",
       ".sk-estimator-doc-link:hover,\n",
       "div.sk-label-container:hover .sk-estimator-doc-link:hover,\n",
       ".sk-estimator-doc-link:hover {\n",
       "  /* unfitted */\n",
       "  background-color: var(--sklearn-color-unfitted-level-3);\n",
       "  color: var(--sklearn-color-background);\n",
       "  text-decoration: none;\n",
       "}\n",
       "\n",
       "div.sk-estimator.fitted:hover .sk-estimator-doc-link.fitted:hover,\n",
       ".sk-estimator-doc-link.fitted:hover,\n",
       "div.sk-label-container:hover .sk-estimator-doc-link.fitted:hover,\n",
       ".sk-estimator-doc-link.fitted:hover {\n",
       "  /* fitted */\n",
       "  background-color: var(--sklearn-color-fitted-level-3);\n",
       "  color: var(--sklearn-color-background);\n",
       "  text-decoration: none;\n",
       "}\n",
       "\n",
       "/* Span, style for the box shown on hovering the info icon */\n",
       ".sk-estimator-doc-link span {\n",
       "  display: none;\n",
       "  z-index: 9999;\n",
       "  position: relative;\n",
       "  font-weight: normal;\n",
       "  right: .2ex;\n",
       "  padding: .5ex;\n",
       "  margin: .5ex;\n",
       "  width: min-content;\n",
       "  min-width: 20ex;\n",
       "  max-width: 50ex;\n",
       "  color: var(--sklearn-color-text);\n",
       "  box-shadow: 2pt 2pt 4pt #999;\n",
       "  /* unfitted */\n",
       "  background: var(--sklearn-color-unfitted-level-0);\n",
       "  border: .5pt solid var(--sklearn-color-unfitted-level-3);\n",
       "}\n",
       "\n",
       ".sk-estimator-doc-link.fitted span {\n",
       "  /* fitted */\n",
       "  background: var(--sklearn-color-fitted-level-0);\n",
       "  border: var(--sklearn-color-fitted-level-3);\n",
       "}\n",
       "\n",
       ".sk-estimator-doc-link:hover span {\n",
       "  display: block;\n",
       "}\n",
       "\n",
       "/* \"?\"-specific style due to the `<a>` HTML tag */\n",
       "\n",
       "#sk-container-id-3 a.estimator_doc_link {\n",
       "  float: right;\n",
       "  font-size: 1rem;\n",
       "  line-height: 1em;\n",
       "  font-family: monospace;\n",
       "  background-color: var(--sklearn-color-background);\n",
       "  border-radius: 1rem;\n",
       "  height: 1rem;\n",
       "  width: 1rem;\n",
       "  text-decoration: none;\n",
       "  /* unfitted */\n",
       "  color: var(--sklearn-color-unfitted-level-1);\n",
       "  border: var(--sklearn-color-unfitted-level-1) 1pt solid;\n",
       "}\n",
       "\n",
       "#sk-container-id-3 a.estimator_doc_link.fitted {\n",
       "  /* fitted */\n",
       "  border: var(--sklearn-color-fitted-level-1) 1pt solid;\n",
       "  color: var(--sklearn-color-fitted-level-1);\n",
       "}\n",
       "\n",
       "/* On hover */\n",
       "#sk-container-id-3 a.estimator_doc_link:hover {\n",
       "  /* unfitted */\n",
       "  background-color: var(--sklearn-color-unfitted-level-3);\n",
       "  color: var(--sklearn-color-background);\n",
       "  text-decoration: none;\n",
       "}\n",
       "\n",
       "#sk-container-id-3 a.estimator_doc_link.fitted:hover {\n",
       "  /* fitted */\n",
       "  background-color: var(--sklearn-color-fitted-level-3);\n",
       "}\n",
       "</style><div id=\"sk-container-id-3\" class=\"sk-top-container\"><div class=\"sk-text-repr-fallback\"><pre>LogisticRegression(max_iter=10000000)</pre><b>In a Jupyter environment, please rerun this cell to show the HTML representation or trust the notebook. <br />On GitHub, the HTML representation is unable to render, please try loading this page with nbviewer.org.</b></div><div class=\"sk-container\" hidden><div class=\"sk-item\"><div class=\"sk-estimator fitted sk-toggleable\"><input class=\"sk-toggleable__control sk-hidden--visually\" id=\"sk-estimator-id-3\" type=\"checkbox\" checked><label for=\"sk-estimator-id-3\" class=\"sk-toggleable__label fitted sk-toggleable__label-arrow\"><div><div>LogisticRegression</div></div><div><a class=\"sk-estimator-doc-link fitted\" rel=\"noreferrer\" target=\"_blank\" href=\"https://scikit-learn.org/1.6/modules/generated/sklearn.linear_model.LogisticRegression.html\">?<span>Documentation for LogisticRegression</span></a><span class=\"sk-estimator-doc-link fitted\">i<span>Fitted</span></span></div></label><div class=\"sk-toggleable__content fitted\"><pre>LogisticRegression(max_iter=10000000)</pre></div> </div></div></div></div>"
      ],
      "text/plain": [
       "LogisticRegression(max_iter=10000000)"
      ]
     },
     "execution_count": 21,
     "metadata": {},
     "output_type": "execute_result"
    }
   ],
   "source": [
    "LR_model = LogisticRegression(max_iter=10000000)  # Increase max_iter if needed\n",
    "LR_model.fit(X_train, y_train)"
   ]
  },
  {
   "cell_type": "code",
   "execution_count": 22,
   "id": "06e5dbeb-d557-48f7-bdfa-b068303b6e78",
   "metadata": {
    "ExecuteTime": {
     "end_time": "2025-03-05T14:38:11.893171Z",
     "start_time": "2025-03-05T14:38:11.884173Z"
    }
   },
   "outputs": [
    {
     "name": "stdout",
     "output_type": "stream",
     "text": [
      "train Accuracy: 0.867\n",
      "test Accuracy:  0.803\n"
     ]
    }
   ],
   "source": [
    "y_pred = LR_model.predict(X_train)\n",
    "accuracy = accuracy_score(y_train, y_pred)\n",
    "print(f'train Accuracy: {accuracy:.3}')\n",
    "y_pred = LR_model.predict(X_test)\n",
    "LR_test_accuracy = accuracy_score(y_test, y_pred)\n",
    "print(f'test Accuracy:  {LR_test_accuracy:.3}')"
   ]
  },
  {
   "cell_type": "markdown",
   "id": "88de8f09-1b8e-4d90-ae85-fad1c353e443",
   "metadata": {},
   "source": [
    "*****Compare the tree ML models and select the best one*****"
   ]
  },
  {
   "cell_type": "code",
   "execution_count": 23,
   "id": "e71c2d90-5a60-48b9-b26d-b9a8b6bc231c",
   "metadata": {
    "ExecuteTime": {
     "end_time": "2025-03-05T14:41:36.434942Z",
     "start_time": "2025-03-05T14:41:36.427796Z"
    }
   },
   "outputs": [
    {
     "name": "stdout",
     "output_type": "stream",
     "text": [
      "Logistic regression accuracy: 0.803\n",
      "Random forest accuracy:       0.836\n",
      "XGBC accuracy:                0.77\n"
     ]
    }
   ],
   "source": [
    "print(f'Logistic regression accuracy: {LR_test_accuracy:.3}')\n",
    "print(f'Random forest accuracy:       {RF_test_accuracy:.3}')\n",
    "print(f'XGBC accuracy:                {XGBC_test_accuracy:.3}')"
   ]
  },
  {
   "cell_type": "markdown",
   "id": "3948ae25-68fd-49b8-8730-41b3012fb4c6",
   "metadata": {},
   "source": [
    "Random forest gives the best performances (in terms of accuracy).   \n",
    "We shall use the performances of the random tree for comparison with ANN"
   ]
  },
  {
   "cell_type": "markdown",
   "id": "e0ba0b7a-00cf-498d-9fb1-47814c313bf9",
   "metadata": {},
   "source": [
    "**6) Examining the performances of the selected ML algorithms (RF) with regard to various metrics** "
   ]
  },
  {
   "cell_type": "markdown",
   "id": "c7b05ac9-a1b4-4f94-96fe-0ffe3ab94f44",
   "metadata": {},
   "source": [
    "The evaluation is performed with regrd to accuracy, recall, precision, and F1"
   ]
  },
  {
   "cell_type": "code",
   "execution_count": 24,
   "id": "c306f892-c825-4775-8350-341fb0dcf6fb",
   "metadata": {
    "ExecuteTime": {
     "end_time": "2025-03-05T14:41:40.259137Z",
     "start_time": "2025-03-05T14:41:40.243088Z"
    }
   },
   "outputs": [
    {
     "name": "stdout",
     "output_type": "stream",
     "text": [
      "Evaluation Metrics of the RF model\n",
      "----------------------------------\n",
      "Accuracy:  0.8361\n",
      "Recall:    0.9062\n",
      "Precision: 0.8056\n",
      "F1-Score:  0.8529\n"
     ]
    }
   ],
   "source": [
    "y_pred = RF_model.predict(X_test)\n",
    "RF_acc = accuracy_score(y_test, y_pred)\n",
    "RF_prec = precision_score(y_test, y_pred)\n",
    "RF_rec = recall_score(y_test, y_pred)\n",
    "RF_f1 = f1_score(y_test, y_pred)\n",
    "print('Evaluation Metrics of the RF model')\n",
    "print('----------------------------------')\n",
    "print(f\"Accuracy:  {RF_acc:.4f}\")\n",
    "print(f\"Recall:    {RF_rec:.4f}\")\n",
    "print(f\"Precision: {RF_prec:.4f}\")\n",
    "print(f\"F1-Score:  {RF_f1:.4f}\")"
   ]
  },
  {
   "cell_type": "markdown",
   "id": "5307e8ce-0985-4934-aa18-73567c589467",
   "metadata": {},
   "source": [
    "**7) Applying a basic ANN**"
   ]
  },
  {
   "cell_type": "markdown",
   "id": "0611bafb-b944-4f31-835d-084f70bcee19",
   "metadata": {},
   "source": [
    "Define a callback to restore the weights to the ephoc with the best validation loss"
   ]
  },
  {
   "cell_type": "code",
   "execution_count": 25,
   "id": "e65b401c-e4ca-4eae-b7c5-1d72070422b5",
   "metadata": {
    "ExecuteTime": {
     "end_time": "2025-03-05T14:45:10.405117Z",
     "start_time": "2025-03-05T14:45:10.394093Z"
    }
   },
   "outputs": [],
   "source": [
    "class BestWeightSaver(Callback):\n",
    "    def __init__(self, monitor='val_loss'):\n",
    "        super().__init__()\n",
    "        self.monitor = monitor\n",
    "        self.best_weights = None\n",
    "        self.best = np.Inf\n",
    "        self.best_epoch = 0\n",
    "\n",
    "    def on_epoch_end(self, epoch, logs=None):\n",
    "        current = logs.get(self.monitor)\n",
    "        if current is not None and current < self.best:\n",
    "            self.best = current\n",
    "            self.best_weights = self.model.get_weights()\n",
    "            self.best_epoch = epoch + 1  # Save the epoch number (human-readable, starting at 1)\n",
    "#            print(f\"Best {self.monitor} improved to {self.best:.4f} at epoch {self.best_epoch}\")\n",
    "\n",
    "    def on_train_end(self, logs=None):\n",
    "        if self.best_weights is not None:\n",
    "            self.model.set_weights(self.best_weights)\n",
    "            print(f\"Restored best weights from epoch {self.best_epoch} with {self.monitor}: {self.best:.4f}\")\n",
    "best_weight_saver = BestWeightSaver(monitor='val_loss')"
   ]
  },
  {
   "cell_type": "markdown",
   "id": "c151e27a-0044-48d3-937a-be788b0568dd",
   "metadata": {},
   "source": [
    "*****Training the basic model*****"
   ]
  },
  {
   "cell_type": "markdown",
   "id": "a0e72ba0-a8b6-47c8-8bde-bfa3d6731d94",
   "metadata": {},
   "source": [
    "The basic ANN is comprises a single hidden layer with 64 neurons.   \n",
    "The activation function of the hidden layer is ReLU.   \n",
    "The activation function of the output layer is sigmoid.   \n",
    "The loss function used for training is binary-cross-entropy.      \n",
    "The weights are restored to the epoch with the best validation loss"
   ]
  },
  {
   "cell_type": "code",
   "execution_count": 26,
   "id": "de65729c-3e2c-4f87-a937-18a8d45e4bb4",
   "metadata": {
    "ExecuteTime": {
     "end_time": "2025-03-05T14:50:06.301561Z",
     "start_time": "2025-03-05T14:50:01.592350Z"
    }
   },
   "outputs": [
    {
     "name": "stderr",
     "output_type": "stream",
     "text": [
      "2025-03-08 15:04:57.450132: E external/local_xla/xla/stream_executor/cuda/cuda_driver.cc:152] failed call to cuInit: INTERNAL: CUDA error: Failed call to cuInit: UNKNOWN ERROR (303)\n"
     ]
    },
    {
     "name": "stdout",
     "output_type": "stream",
     "text": [
      "Restored best weights from epoch 43 with val_loss: 0.4472\n"
     ]
    }
   ],
   "source": [
    "seed = 185; random.seed(seed); np.random.seed(seed); tf.random.set_seed(seed)\n",
    "BNN_model = keras.Sequential([\n",
    "    layers.Input(shape=(X_train.shape[1],)),  # Input layer\n",
    "    layers.Dense(64, activation='relu'),  # Hidden layer\n",
    "    layers.Dense(1, activation='sigmoid')  # Output layer (sigmoid for binary classification)\n",
    "])\n",
    "BNN_model.compile(optimizer='adam', loss='binary_crossentropy', metrics=['accuracy'])\n",
    "BNN_history = BNN_model.fit(X_train, y_train, epochs=100, batch_size=32, validation_data=(X_val, y_val),verbose=0,callbacks=[best_weight_saver])"
   ]
  },
  {
   "cell_type": "code",
   "execution_count": 27,
   "id": "ec03b14e-cd87-435e-8cd7-d2934a724c29",
   "metadata": {
    "ExecuteTime": {
     "end_time": "2025-03-05T14:54:08.758072Z",
     "start_time": "2025-03-05T14:54:08.550424Z"
    }
   },
   "outputs": [
    {
     "data": {
      "image/png": "[encoded data removed]",
      "text/plain": [
       "<Figure size 1000x500 with 2 Axes>"
      ]
     },
     "metadata": {},
     "output_type": "display_data"
    }
   ],
   "source": [
    "fig, axes = plt.subplots(1,2,figsize=(10,5))\n",
    "fig.tight_layout(pad=4.0)\n",
    "ax = axes[0]\n",
    "ax.plot(BNN_history.history['loss'], label='train')\n",
    "ax.plot(BNN_history.history['val_loss'], label='validation')\n",
    "ax.grid()\n",
    "ax.legend()\n",
    "ax.set_xlabel('epocs')\n",
    "ax.set_ylabel('loss')\n",
    "ax=axes[1]\n",
    "ax.plot(BNN_history.history['accuracy'], label='train')\n",
    "ax.plot(BNN_history.history['val_accuracy'], label='validation')\n",
    "ax.grid()\n",
    "ax.legend()\n",
    "ax.set_xlabel('epocs')\n",
    "ax.set_ylabel('accuracy')\n",
    "plt.suptitle('training the basic ANN')\n",
    "plt.show()"
   ]
  },
  {
   "cell_type": "markdown",
   "id": "a3bb47ab-2b2a-4c1c-82fb-0e6a8200161f",
   "metadata": {},
   "source": [
    "*****Evaluating the performances of the basic model, with respect to various metrics, over the validation set*****"
   ]
  },
  {
   "cell_type": "code",
   "execution_count": 28,
   "id": "566b9bb3-a5e8-45a0-9606-19449e93f4f3",
   "metadata": {
    "ExecuteTime": {
     "end_time": "2025-03-05T15:54:49.443730Z",
     "start_time": "2025-03-05T15:54:49.340312Z"
    }
   },
   "outputs": [
    {
     "name": "stdout",
     "output_type": "stream",
     "text": [
      "\u001b[1m2/2\u001b[0m \u001b[32m━━━━━━━━━━━━━━━━━━━━\u001b[0m\u001b[37m\u001b[0m \u001b[1m0s\u001b[0m 51ms/step\n",
      "metric    value\n",
      "----------------------------------------\n",
      "Accuracy    0.82\n",
      "Recall      0.84\n",
      "Precision   0.82\n",
      "F1-Score    0.83\n"
     ]
    }
   ],
   "source": [
    "decision_threshold = 0.5\n",
    "y_pred_val = BNN_model.predict(X_val)\n",
    "y_dec_val = y_pred_val>=decision_threshold\n",
    "BNN_acc_val =   accuracy_score  (y_val, y_dec_val)\n",
    "BNN_rec_val =   recall_score    (y_val, y_dec_val)\n",
    "BNN_prec_val =  precision_score (y_val, y_dec_val)\n",
    "BNN_f1_val =    f1_score        (y_val, y_dec_val)\n",
    "print('metric    value')\n",
    "print('----------------------------------------')\n",
    "print(f\"Accuracy    {BNN_acc_val:.2f}\")\n",
    "print(f\"Recall      {BNN_rec_val:.2f}\")\n",
    "print(f\"Precision   {BNN_prec_val:.2f}\")\n",
    "print(f\"F1-Score    {BNN_f1_val:.2f}\")"
   ]
  },
  {
   "cell_type": "markdown",
   "id": "7c53e82b-8c75-4c87-b50f-74a69d456a2e",
   "metadata": {},
   "source": [
    "**8) comparing the performances of the basic ANN calassifer with those of the RF classifier**"
   ]
  },
  {
   "cell_type": "markdown",
   "id": "b9ebeb5e-ef72-4e95-93ee-f2b4607f9c9a",
   "metadata": {},
   "source": [
    "The comparisoon is performed with regard to the accuracy, recall, precision and F1 metrics   \n",
    "The comparison is performed over the test set"
   ]
  },
  {
   "cell_type": "code",
   "execution_count": 29,
   "id": "677ff109-a64b-4f2a-b61c-fb7a59a83e47",
   "metadata": {
    "ExecuteTime": {
     "end_time": "2025-03-05T16:04:04.377635Z",
     "start_time": "2025-03-05T16:04:04.303668Z"
    }
   },
   "outputs": [
    {
     "name": "stdout",
     "output_type": "stream",
     "text": [
      "\u001b[1m2/2\u001b[0m \u001b[32m━━━━━━━━━━━━━━━━━━━━\u001b[0m\u001b[37m\u001b[0m \u001b[1m0s\u001b[0m 23ms/step\n",
      "metric      RF     basic ANN\n",
      "----------------------------------------\n",
      "Accuracy    0.84   0.82\n",
      "Recall      0.91   0.91\n",
      "Precision   0.81   0.78\n",
      "F1-Score    0.85   0.84\n"
     ]
    }
   ],
   "source": [
    "decision_threshold = 0.5\n",
    "y_pred_test = BNN_model.predict(X_test)\n",
    "y_dec_test = y_pred_test>=decision_threshold\n",
    "BNN_acc_test =   accuracy_score  (y_test, y_dec_test)\n",
    "BNN_rec_test =   recall_score    (y_test, y_dec_test)\n",
    "BNN_prec_test =  precision_score (y_test, y_dec_test)\n",
    "BNN_f1_test =    f1_score        (y_test, y_dec_test)\n",
    "print('metric      RF     basic ANN')\n",
    "print('----------------------------------------')\n",
    "print(f\"Accuracy    {RF_acc:.2f}   {BNN_acc_test:.2f}\")\n",
    "print(f\"Recall      {RF_rec:.2f}   {BNN_rec_test:.2f}\")\n",
    "print(f\"Precision   {RF_prec:.2f}   {BNN_prec_test:.2f}\")\n",
    "print(f\"F1-Score    {RF_f1:.2f}   {BNN_f1_test:.2f}\")"
   ]
  },
  {
   "cell_type": "markdown",
   "id": "8bca30ea-1122-4cfc-8353-e990dd8eba08",
   "metadata": {},
   "source": [
    "The of the basic NN model is slightly worse than those of the RF model.  "
   ]
  },
  {
   "cell_type": "markdown",
   "id": "d2906582-33fc-4ad9-82be-73af4687e6f8",
   "metadata": {},
   "source": [
    "**9) Investigate the effect of some hyperparameters of the performances of the ANN**"
   ]
  },
  {
   "cell_type": "markdown",
   "id": "264f3d2b-fe14-4fbc-a196-b8d9e587cba8",
   "metadata": {},
   "source": [
    "The hyperparameters to be checked are the depth, width, and activation functions   "
   ]
  },
  {
   "cell_type": "markdown",
   "id": "ec106b22-1b07-4576-95ba-824e0f084f31",
   "metadata": {},
   "source": [
    "*****Width of the hidden layer*****"
   ]
  },
  {
   "cell_type": "markdown",
   "id": "2bd3d19d-68ad-479d-812b-70d454432d12",
   "metadata": {},
   "source": [
    "Evaluating networks with hidden layer values of 20,30,40,60,80, and 100 neurons\n",
    "The figure of merit for the evaluation is the loss over the validation set.  "
   ]
  },
  {
   "cell_type": "code",
   "execution_count": 30,
   "id": "ffa6b170-77da-48b3-8abe-eb2c68aa5279",
   "metadata": {
    "ExecuteTime": {
     "end_time": "2025-03-05T16:11:10.185048Z",
     "start_time": "2025-03-05T16:10:32.324307Z"
    }
   },
   "outputs": [
    {
     "name": "stdout",
     "output_type": "stream",
     "text": [
      "N1 =  20\n"
     ]
    },
    {
     "name": "stdout",
     "output_type": "stream",
     "text": [
      "Restored best weights from epoch 120 with val_loss: 0.4323\n",
      "N1 =  30\n",
      "Restored best weights from epoch 106 with val_loss: 0.4491\n",
      "N1 =  40\n",
      "Restored best weights from epoch 83 with val_loss: 0.4351\n",
      "N1 =  60\n",
      "Restored best weights from epoch 30 with val_loss: 0.4184\n",
      "N1 =  80\n",
      "Restored best weights from epoch 57 with val_loss: 0.4256\n",
      "N1 =  100\n",
      "Restored best weights from epoch 37 with val_loss: 0.4359\n"
     ]
    }
   ],
   "source": [
    "single_layer_history_list = [] \n",
    "N1_values = [20,30,40,60,80,100]\n",
    "for indx in range(len(N1_values)):\n",
    "    seed = 185; random.seed(seed); np.random.seed(seed); tf.random.set_seed(seed)\n",
    "    best_weight_saver = BestWeightSaver()\n",
    "    N1=N1_values[indx]\n",
    "    print('N1 = ',N1)\n",
    "    single_layer_model = keras.Sequential([\n",
    "        layers.Input(shape=(X_train.shape[1],)),  # Input layer\n",
    "        layers.Dense(N1, activation='relu'),  # Hidden layer\n",
    "        layers.Dense(1, activation='sigmoid')  # Output layer (sigmoid for binary classification)\n",
    "        ])\n",
    "    single_layer_model.compile(optimizer='adam', loss='binary_crossentropy', metrics=['accuracy'])\n",
    "    single_layer_history = single_layer_model.fit(X_train, y_train, epochs=150, batch_size=32,validation_data=(X_val, y_val),\n",
    "                                                  verbose=0,callbacks=[best_weight_saver])\n",
    "    single_layer_history_list.append(single_layer_history)"
   ]
  },
  {
   "cell_type": "code",
   "execution_count": 31,
   "id": "af0dd27d-eccc-4891-b727-2709b4ba011f",
   "metadata": {
    "ExecuteTime": {
     "end_time": "2025-03-05T16:15:09.054779Z",
     "start_time": "2025-03-05T16:15:08.274554Z"
    }
   },
   "outputs": [
    {
     "data": {
      "image/png": "[encoded data removed]",
      "text/plain": [
       "<Figure size 1000x600 with 6 Axes>"
      ]
     },
     "metadata": {},
     "output_type": "display_data"
    }
   ],
   "source": [
    "fig, axes = plt.subplots(2, 3, figsize=(10, 6))\n",
    "fig.tight_layout(pad=4.0)\n",
    "for indx in range(len(N1_values)):\n",
    "    N1=N1_values[indx]\n",
    "    ax = axes[indx//3, indx%3]\n",
    "    train_loss = single_layer_history_list[indx].history['loss']\n",
    "    val_loss = single_layer_history_list[indx].history['val_loss']\n",
    "    ax.plot(train_loss, label='train')\n",
    "    ax.plot(val_loss, label='validation')\n",
    "    ax.set_ylim([0, 3])   \n",
    "    ax.grid()\n",
    "    ax.legend()\n",
    "    ax.set_xlabel('ephocs')\n",
    "    ax.set_ylabel('loss')\n",
    "    ax.set_title(f'width =  {N1}')\n",
    "plt.show() "
   ]
  },
  {
   "cell_type": "code",
   "execution_count": 32,
   "id": "1664c0eb-65bd-49ca-9712-626ea3f81d78",
   "metadata": {
    "ExecuteTime": {
     "end_time": "2025-03-05T16:15:16.690918Z",
     "start_time": "2025-03-05T16:15:16.554638Z"
    }
   },
   "outputs": [
    {
     "data": {
      "image/png": "[encoded data removed]",
      "text/plain": [
       "<Figure size 640x480 with 1 Axes>"
      ]
     },
     "metadata": {},
     "output_type": "display_data"
    }
   ],
   "source": [
    "plt.figure()\n",
    "for indx in range(len(N1_values)):\n",
    "    N1=N1_values[indx]\n",
    "    val_loss = single_layer_history_list[indx].history['val_loss']\n",
    "    plt.plot(val_loss,label=f'N1 = {N1}')\n",
    "plt.grid()\n",
    "plt.legend()\n",
    "plt.ylim(0.4,0.8)\n",
    "plt.xlabel('epochs')\n",
    "plt.ylabel('validation loss')\n",
    "plt.title(f'validation loss for various hidden layer size')\n",
    "plt.show() "
   ]
  },
  {
   "cell_type": "markdown",
   "id": "a2245ca6-0535-4cfe-a68d-fe17521ba324",
   "metadata": {},
   "source": [
    "N1=60 is the best choice.   "
   ]
  },
  {
   "cell_type": "code",
   "execution_count": 33,
   "id": "637e70b4-693d-4a9e-9dd5-16b809d45d53",
   "metadata": {
    "ExecuteTime": {
     "end_time": "2025-03-05T16:23:00.939508Z",
     "start_time": "2025-03-05T16:23:00.920592Z"
    }
   },
   "outputs": [],
   "source": [
    "best_N1 = 60"
   ]
  },
  {
   "cell_type": "code",
   "execution_count": 34,
   "id": "371a2999-94ce-4c0f-bf2f-41b9fc478d78",
   "metadata": {
    "ExecuteTime": {
     "end_time": "2025-03-05T16:23:16.811654Z",
     "start_time": "2025-03-05T16:23:12.828090Z"
    }
   },
   "outputs": [
    {
     "name": "stdout",
     "output_type": "stream",
     "text": [
      "N1 =  60\n",
      "Restored best weights from epoch 30 with val_loss: 0.4184\n"
     ]
    }
   ],
   "source": [
    "N1 = best_N1\n",
    "print('N1 = ', N1)\n",
    "seed = 185; random.seed(seed); np.random.seed(seed); tf.random.set_seed(seed)\n",
    "best_weight_saver = BestWeightSaver()\n",
    "best_single_layer_model = keras.Sequential([\n",
    "    layers.Input(shape=(X_train.shape[1],)),  # Input layer\n",
    "    layers.Dense(N1, activation='relu'),  # Hidden layer\n",
    "    layers.Dense(1, activation='sigmoid')  # Output layer (sigmoid for binary classification)\n",
    "    ])\n",
    "best_single_layer_model.compile(optimizer='adam', loss='binary_crossentropy', metrics=['accuracy'])\n",
    "best_single_layer_history = best_single_layer_model.fit(X_train, y_train, epochs=75, batch_size=32,validation_data=(X_val, y_val),\n",
    "                                                  verbose=0,callbacks=[best_weight_saver])"
   ]
  },
  {
   "cell_type": "code",
   "execution_count": 35,
   "id": "e641e518-0743-4390-a5d9-4cb440ea700f",
   "metadata": {
    "ExecuteTime": {
     "end_time": "2025-03-05T16:57:40.019285Z",
     "start_time": "2025-03-05T16:57:39.929769Z"
    },
    "jupyter": {
     "source_hidden": true
    }
   },
   "outputs": [
    {
     "name": "stdout",
     "output_type": "stream",
     "text": [
      "\u001b[1m2/2\u001b[0m \u001b[32m━━━━━━━━━━━━━━━━━━━━\u001b[0m\u001b[37m\u001b[0m \u001b[1m0s\u001b[0m 51ms/step\n",
      "best single layer model test preformances\n",
      "metric      value\n",
      "-----------------\n",
      "Accuracy    0.82\n",
      "Recall      0.91\n",
      "Precision   0.78\n",
      "F1-Score    0.84\n"
     ]
    }
   ],
   "source": [
    "decision_threshold = 0.5\n",
    "y_pred_test = best_single_layer_model.predict(X_test)\n",
    "y_dec_test = y_pred_test>=decision_threshold\n",
    "best_single_layer_acc_test =   accuracy_score  (y_test, y_dec_test)\n",
    "best_single_layer_rec_test =   recall_score    (y_test, y_dec_test)\n",
    "best_single_layer_prec_test =  precision_score (y_test, y_dec_test)\n",
    "best_single_layer_f1_test =    f1_score        (y_test, y_dec_test)\n",
    "print('best single layer model test preformances')\n",
    "print('metric      value')\n",
    "print('-----------------')\n",
    "print(f\"Accuracy    {BNN_acc_test:.2f}\")\n",
    "print(f\"Recall      {BNN_rec_test:.2f}\")\n",
    "print(f\"Precision   {BNN_prec_test:.2f}\")\n",
    "print(f\"F1-Score    {BNN_f1_test:.2f}\")"
   ]
  },
  {
   "cell_type": "markdown",
   "id": "c31c2b7e-ac73-41f5-ab23-93731071dd9a",
   "metadata": {},
   "source": [
    "*****Depth of the network*****"
   ]
  },
  {
   "cell_type": "markdown",
   "id": "2ff0c385-4137-4e6c-9feb-f167d8b0f334",
   "metadata": {},
   "source": [
    "******Two hidden layers model******"
   ]
  },
  {
   "cell_type": "markdown",
   "id": "0d22c712-1976-4756-a157-0744a09fe687",
   "metadata": {},
   "source": [
    "Adding a second hidden layer with various widths: 4,6,8,10,12"
   ]
  },
  {
   "cell_type": "code",
   "execution_count": 36,
   "id": "c8619e3c-daaf-401f-8461-8f8f8531055f",
   "metadata": {
    "ExecuteTime": {
     "end_time": "2025-03-05T16:58:16.955845Z",
     "start_time": "2025-03-05T16:57:45.547367Z"
    }
   },
   "outputs": [
    {
     "name": "stdout",
     "output_type": "stream",
     "text": [
      "N2 =  4\n",
      "Restored best weights from epoch 55 with val_loss: 0.4266\n",
      "N2 =  6\n",
      "Restored best weights from epoch 74 with val_loss: 0.4243\n",
      "N2 =  8\n",
      "Restored best weights from epoch 44 with val_loss: 0.4260\n",
      "N2 =  10\n",
      "Restored best weights from epoch 66 with val_loss: 0.4183\n",
      "N2 =  12\n",
      "Restored best weights from epoch 62 with val_loss: 0.4461\n"
     ]
    }
   ],
   "source": [
    "two_layers_history_list = []\n",
    "N1 = best_N1\n",
    "N2_values = [4,6,8,10,12]\n",
    "for indx in range(len(N2_values)):\n",
    "    N2=N2_values[indx]\n",
    "    print('N2 = ',N2)\n",
    "    seed = 185; random.seed(seed); np.random.seed(seed); tf.random.set_seed(seed)\n",
    "    best_weight_saver = BestWeightSaver()\n",
    "    two_layers_model = keras.Sequential([\n",
    "        layers.Input(shape=(X_train.shape[1],)),  # Input layer\n",
    "        layers.Dense(N1, activation='relu'),  # first hidden layer\n",
    "        layers.Dense(N2, activation='relu'),  # second hidden layer\n",
    "        layers.Dense(1, activation='sigmoid')  # Output layer (sigmoid for binary classification)\n",
    "    ])\n",
    "    two_layers_model.compile(optimizer='adam', loss='binary_crossentropy', metrics=['accuracy'])\n",
    "    two_layers_history = two_layers_model.fit(X_train, y_train, epochs=150, batch_size=32, validation_data=(X_val, y_val),\n",
    "                                              verbose=0,callbacks=[best_weight_saver])\n",
    "    two_layers_history_list.append(two_layers_history)"
   ]
  },
  {
   "cell_type": "code",
   "execution_count": 37,
   "id": "2305e962-7f98-451f-a8ed-15d14e99956f",
   "metadata": {
    "ExecuteTime": {
     "end_time": "2025-03-05T17:01:42.427707Z",
     "start_time": "2025-03-05T17:01:41.916737Z"
    }
   },
   "outputs": [
    {
     "data": {
      "image/png": "[encoded data removed]",
      "text/plain": [
       "<Figure size 1000x700 with 6 Axes>"
      ]
     },
     "metadata": {},
     "output_type": "display_data"
    }
   ],
   "source": [
    "fig, axes = plt.subplots(2, 3, figsize=(10, 7))\n",
    "fig.tight_layout(pad=4.0)\n",
    "for indx in range(len(N2_values)):\n",
    "    N2=N2_values[indx]\n",
    "    ax = axes[indx//3, indx%3]\n",
    "    train_loss = two_layers_history_list[indx].history['loss']\n",
    "    val_loss = two_layers_history_list[indx].history['val_loss']\n",
    "    ax.plot(train_loss, label='train')\n",
    "    ax.plot(val_loss, label='validation')\n",
    "    ax.set_ylim([0, 3])\n",
    "    ax.grid()\n",
    "    ax.legend()\n",
    "    ax.set_xlabel('epochs')\n",
    "    ax.set_ylabel('loss')\n",
    "    ax.set_title(f'N2 = {N2}')\n",
    "plt.show() "
   ]
  },
  {
   "cell_type": "code",
   "execution_count": 38,
   "id": "77912a86-5993-46e3-974e-4f186ea600e5",
   "metadata": {
    "ExecuteTime": {
     "end_time": "2025-03-05T17:01:49.424325Z",
     "start_time": "2025-03-05T17:01:49.299809Z"
    }
   },
   "outputs": [
    {
     "data": {
      "image/png": "[encoded data removed]",
      "text/plain": [
       "<Figure size 640x480 with 1 Axes>"
      ]
     },
     "metadata": {},
     "output_type": "display_data"
    }
   ],
   "source": [
    "plt.figure()\n",
    "for indx in range(len(N2_values)):\n",
    "    N2=N2_values[indx]\n",
    "    val_loss = two_layers_history_list[indx].history['val_loss']\n",
    "    plt.plot(val_loss,label=f'N2 = {N2}')\n",
    "plt.grid()\n",
    "plt.legend()\n",
    "plt.xlabel('epoch')\n",
    "plt.ylabel('validation loss')\n",
    "plt.ylim(0.4,0.8)\n",
    "plt.title(f'validation loss for various widths of the second hidden layer')\n",
    "plt.show() "
   ]
  },
  {
   "cell_type": "markdown",
   "id": "7675bf9f-efe5-479f-8b9a-d4d96a86af20",
   "metadata": {},
   "source": [
    "N2=10 is the best choice"
   ]
  },
  {
   "cell_type": "code",
   "execution_count": 39,
   "id": "3995a981-be0c-48ec-816f-7b9f565d3e32",
   "metadata": {
    "ExecuteTime": {
     "end_time": "2025-03-05T16:58:32.074562Z",
     "start_time": "2025-03-05T16:58:32.056548Z"
    }
   },
   "outputs": [],
   "source": [
    "best_N2 = 10"
   ]
  },
  {
   "cell_type": "markdown",
   "id": "47a9f497-f5f2-4d82-806e-147a055ffb13",
   "metadata": {},
   "source": [
    "Checking the test accuracy of the the best two hidden layers model and compariong it to the best single hidden layer model"
   ]
  },
  {
   "cell_type": "code",
   "execution_count": 40,
   "id": "7abef712-7b12-4a0d-b5c7-500de87b6b42",
   "metadata": {
    "ExecuteTime": {
     "end_time": "2025-03-05T17:02:22.485553Z",
     "start_time": "2025-03-05T17:02:15.820392Z"
    }
   },
   "outputs": [
    {
     "name": "stdout",
     "output_type": "stream",
     "text": [
      "N1 =  60  N2 =  10\n",
      "Restored best weights from epoch 66 with val_loss: 0.4183\n"
     ]
    },
    {
     "data": {
      "text/plain": [
       "<keras.src.callbacks.history.History at 0x78cbe0d4a7b0>"
      ]
     },
     "execution_count": 40,
     "metadata": {},
     "output_type": "execute_result"
    }
   ],
   "source": [
    "N1=best_N1\n",
    "N2 = best_N2\n",
    "print('N1 = ',N1,' N2 = ',N2)\n",
    "seed = 185; random.seed(seed); np.random.seed(seed); tf.random.set_seed(seed)\n",
    "best_weight_saver = BestWeightSaver()\n",
    "best_two_layer_model = keras.Sequential([\n",
    "    layers.Input(shape=(X_train.shape[1],)),  # Input layer\n",
    "    layers.Dense(N1, activation='relu'),  # Hidden layer\n",
    "    layers.Dense(N2, activation='relu'),  # Second Hidden layer\n",
    "    layers.Dense(1, activation='sigmoid')  # Output layer (sigmoid for binary classification)\n",
    "    ])\n",
    "best_two_layer_model.compile(optimizer='adam', loss='binary_crossentropy', metrics=['accuracy'])\n",
    "best_two_layer_model.fit(X_train, y_train, epochs=150, batch_size=32, validation_data=(X_val, y_val),\n",
    "                         verbose=0,callbacks=[best_weight_saver])"
   ]
  },
  {
   "cell_type": "code",
   "execution_count": 41,
   "id": "fc4a71c0-fad8-4b24-a34d-3c69333dba1d",
   "metadata": {
    "ExecuteTime": {
     "end_time": "2025-03-05T17:02:43.157282Z",
     "start_time": "2025-03-05T17:02:43.059614Z"
    }
   },
   "outputs": [
    {
     "name": "stdout",
     "output_type": "stream",
     "text": [
      "WARNING:tensorflow:5 out of the last 7 calls to <function TensorFlowTrainer.make_predict_function.<locals>.one_step_on_data_distributed at 0x78cbe0d4e8e0> triggered tf.function retracing. Tracing is expensive and the excessive number of tracings could be due to (1) creating @tf.function repeatedly in a loop, (2) passing tensors with different shapes, (3) passing Python objects instead of tensors. For (1), please define your @tf.function outside of the loop. For (2), @tf.function has reduce_retracing=True option that can avoid unnecessary retracing. For (3), please refer to https://www.tensorflow.org/guide/function#controlling_retracing and https://www.tensorflow.org/api_docs/python/tf/function for  more details.\n",
      "\u001b[1m1/2\u001b[0m \u001b[32m━━━━━━━━━━\u001b[0m\u001b[37m━━━━━━━━━━\u001b[0m \u001b[1m0s\u001b[0m 64ms/stepWARNING:tensorflow:6 out of the last 8 calls to <function TensorFlowTrainer.make_predict_function.<locals>.one_step_on_data_distributed at 0x78cbe0d4e8e0> triggered tf.function retracing. Tracing is expensive and the excessive number of tracings could be due to (1) creating @tf.function repeatedly in a loop, (2) passing tensors with different shapes, (3) passing Python objects instead of tensors. For (1), please define your @tf.function outside of the loop. For (2), @tf.function has reduce_retracing=True option that can avoid unnecessary retracing. For (3), please refer to https://www.tensorflow.org/guide/function#controlling_retracing and https://www.tensorflow.org/api_docs/python/tf/function for  more details.\n",
      "\u001b[1m2/2\u001b[0m \u001b[32m━━━━━━━━━━━━━━━━━━━━\u001b[0m\u001b[37m\u001b[0m \u001b[1m0s\u001b[0m 61ms/step\n"
     ]
    }
   ],
   "source": [
    "y_pred_test = best_two_layer_model.predict(X_test)"
   ]
  },
  {
   "cell_type": "code",
   "execution_count": 42,
   "id": "b3b45229-75de-4e2e-b90c-88735135ff1d",
   "metadata": {
    "ExecuteTime": {
     "end_time": "2025-03-05T17:02:47.517883Z",
     "start_time": "2025-03-05T17:02:47.500553Z"
    }
   },
   "outputs": [
    {
     "name": "stdout",
     "output_type": "stream",
     "text": [
      "best single layer model versus best two layers model test preformances\n",
      "----------------------------------------------------------------------\n",
      "metric      single      two\n",
      "Accuracy    0.82       0.82\n",
      "Recall      0.91       0.91\n",
      "Precision   0.78       0.78\n",
      "F1-Score    0.84       0.84\n"
     ]
    }
   ],
   "source": [
    "decision_threshold = 0.5\n",
    "y_dec_test = y_pred_test>=decision_threshold\n",
    "best_two_layer_acc_test =   accuracy_score  (y_test, y_dec_test)\n",
    "best_two_layer_rec_test =   recall_score    (y_test, y_dec_test)\n",
    "best_two_layer_prec_test =  precision_score (y_test, y_dec_test)\n",
    "best_two_layer_f1_test =    f1_score        (y_test, y_dec_test)\n",
    "print('best single layer model versus best two layers model test preformances')\n",
    "print('----------------------------------------------------------------------')\n",
    "print('metric      single      two')\n",
    "print(f\"Accuracy    {best_single_layer_acc_test:.2f}       {best_two_layer_acc_test:.2f}\")\n",
    "print(f\"Recall      {best_single_layer_rec_test:.2f}       {best_two_layer_rec_test:.2f}\")\n",
    "print(f\"Precision   {best_single_layer_prec_test:.2f}       {best_two_layer_prec_test:.2f}\")\n",
    "print(f\"F1-Score    {best_single_layer_f1_test:.2f}       {best_two_layer_f1_test:.2f}\")"
   ]
  },
  {
   "cell_type": "markdown",
   "id": "2404518b-60db-4b1f-b8de-dbb0c104619c",
   "metadata": {},
   "source": [
    "The performances of the best two hidden layer model are the same as those of the best single layer model.   "
   ]
  },
  {
   "cell_type": "markdown",
   "id": "938b7646-26ba-498f-a68d-8cc35836e26f",
   "metadata": {},
   "source": [
    "******Three hidden layer model******"
   ]
  },
  {
   "cell_type": "markdown",
   "id": "82ee8774-08c4-4b47-aa8f-fbf75f1c9488",
   "metadata": {},
   "source": [
    "Adding a third hidden layer with widths: 16,20,24,28,32,36"
   ]
  },
  {
   "cell_type": "code",
   "execution_count": 43,
   "id": "9c3a1c30-c159-41cf-8f87-666678ca36c6",
   "metadata": {
    "ExecuteTime": {
     "end_time": "2025-03-05T17:03:26.906991Z",
     "start_time": "2025-03-05T17:02:59.077300Z"
    }
   },
   "outputs": [
    {
     "name": "stdout",
     "output_type": "stream",
     "text": [
      "N1 = 60 N2 = 10 N3 = 16\n",
      "Restored best weights from epoch 55 with val_loss: 0.4214\n",
      "N1 = 60 N2 = 10 N3 = 20\n",
      "Restored best weights from epoch 41 with val_loss: 0.4193\n",
      "N1 = 60 N2 = 10 N3 = 24\n",
      "Restored best weights from epoch 67 with val_loss: 0.4240\n",
      "N1 = 60 N2 = 10 N3 = 28\n",
      "Restored best weights from epoch 68 with val_loss: 0.4127\n",
      "N1 = 60 N2 = 10 N3 = 32\n",
      "Restored best weights from epoch 69 with val_loss: 0.4182\n",
      "N1 = 60 N2 = 10 N3 = 36\n",
      "Restored best weights from epoch 70 with val_loss: 0.4383\n"
     ]
    }
   ],
   "source": [
    "three_layers_history_list = []\n",
    "N1 = best_N1\n",
    "N2 = best_N2\n",
    "N3_values = [16,20,24,28,32,36]\n",
    "for indx in range(len(N3_values)):\n",
    "    N3=N3_values[indx]\n",
    "    print('N1 =',N1,'N2 =',N2,'N3 =',N3)\n",
    "    seed = 185; random.seed(seed); np.random.seed(seed); tf.random.set_seed(seed)\n",
    "    best_weight_saver = BestWeightSaver()\n",
    "    three_layers_model = keras.Sequential([\n",
    "        layers.Input(shape=(X_train.shape[1],)),  # Input layer\n",
    "        layers.Dense(N1, activation='relu'),  # first hidden layer\n",
    "        layers.Dense(N2, activation='relu'),  # second hidden layer\n",
    "        layers.Dense(N3, activation='relu'),  # third hidden layer\n",
    "        layers.Dense(1, activation='sigmoid')  # Output layer (sigmoid for binary classification)\n",
    "    ])\n",
    "    three_layers_model.compile(optimizer='adam', loss='binary_crossentropy', metrics=['accuracy'])\n",
    "    three_layers_history = three_layers_model.fit(X_train, y_train, epochs=100, batch_size=32, validation_data=(X_val, y_val)\n",
    "                                                  ,verbose=0,callbacks=[best_weight_saver])\n",
    "    three_layers_history_list.append(three_layers_history)"
   ]
  },
  {
   "cell_type": "code",
   "execution_count": 44,
   "id": "abf2a967-a9f0-491f-9429-44dd8df23903",
   "metadata": {
    "ExecuteTime": {
     "end_time": "2025-03-05T17:03:34.466885Z",
     "start_time": "2025-03-05T17:03:33.634816Z"
    }
   },
   "outputs": [
    {
     "data": {
      "image/png": "[encoded data removed]",
      "text/plain": [
       "<Figure size 1000x700 with 6 Axes>"
      ]
     },
     "metadata": {},
     "output_type": "display_data"
    }
   ],
   "source": [
    "fig, axes = plt.subplots(2, 3, figsize=(10, 7))\n",
    "fig.tight_layout(pad=4.0)\n",
    "for indx in range(len(N3_values)):\n",
    "    N3=N3_values[indx]\n",
    "    ax = axes[indx//3, indx%3]\n",
    "    train_loss = three_layers_history_list[indx].history['loss']\n",
    "    val_loss = three_layers_history_list[indx].history['val_loss']\n",
    "    ax.plot(train_loss, label='train')\n",
    "    ax.plot(val_loss, label='validation')\n",
    "    ax.set_ylim([0, 3])\n",
    "    ax.grid()\n",
    "    ax.legend()\n",
    "    ax.set_xlabel('epochs')\n",
    "    ax.set_ylabel('loss')\n",
    "    ax.set_title(f'N3 = {N3}')\n",
    "plt.show() "
   ]
  },
  {
   "cell_type": "code",
   "execution_count": 45,
   "id": "6c585281-d06e-49da-b8a5-fb0a6d80d729",
   "metadata": {
    "ExecuteTime": {
     "end_time": "2025-03-05T17:03:39.554900Z",
     "start_time": "2025-03-05T17:03:39.434345Z"
    }
   },
   "outputs": [
    {
     "data": {
      "image/png": "[encoded data removed]",
      "text/plain": [
       "<Figure size 640x480 with 1 Axes>"
      ]
     },
     "metadata": {},
     "output_type": "display_data"
    }
   ],
   "source": [
    "plt.figure()\n",
    "for indx in range(len(N3_values)):\n",
    "    N3=N3_values[indx]\n",
    "    val_loss = three_layers_history_list[indx].history['val_loss']\n",
    "    plt.plot(val_loss,label=f'N3 = {N3}')\n",
    "plt.grid()\n",
    "plt.legend()\n",
    "plt.xlabel('epoch')\n",
    "plt.ylabel('validation loss')\n",
    "plt.ylim(0.4,0.8)\n",
    "plt.title(f'validation loss for various widths of the third hidden layer')\n",
    "plt.show() "
   ]
  },
  {
   "cell_type": "markdown",
   "id": "614011cd-254c-4115-b7ac-2417f3c92b82",
   "metadata": {},
   "source": [
    "We shall choose N3 = 28   "
   ]
  },
  {
   "cell_type": "markdown",
   "id": "02e0544c-1223-497a-beb7-d1b1775d4cfc",
   "metadata": {},
   "source": [
    "Checking the test accuracy of the best three hidden layers model and compariong it to the best one and two hidden layer models"
   ]
  },
  {
   "cell_type": "code",
   "execution_count": 46,
   "id": "7ef81bfc-132d-461b-b65e-b23687336189",
   "metadata": {
    "ExecuteTime": {
     "end_time": "2025-03-05T16:56:22.976349Z",
     "start_time": "2025-03-05T16:56:22.967822Z"
    }
   },
   "outputs": [],
   "source": [
    "best_N3 =28"
   ]
  },
  {
   "cell_type": "code",
   "execution_count": 47,
   "id": "0d7318da-f7d4-4c7e-8be3-9663027f644a",
   "metadata": {
    "ExecuteTime": {
     "end_time": "2025-03-05T17:04:08.327275Z",
     "start_time": "2025-03-05T17:04:01.934712Z"
    },
    "scrolled": true
   },
   "outputs": [
    {
     "name": "stdout",
     "output_type": "stream",
     "text": [
      "Restored best weights from epoch 68 with val_loss: 0.4127\n"
     ]
    },
    {
     "data": {
      "text/plain": [
       "<keras.src.callbacks.history.History at 0x78cbdb323b30>"
      ]
     },
     "execution_count": 47,
     "metadata": {},
     "output_type": "execute_result"
    }
   ],
   "source": [
    "N1=best_N1\n",
    "N2=best_N2\n",
    "N3=best_N3\n",
    "seed = 185; random.seed(seed); np.random.seed(seed); tf.random.set_seed(seed)\n",
    "best_weight_saver = BestWeightSaver()\n",
    "best_three_layer_model = keras.Sequential([\n",
    "    layers.Input(shape=(X_train.shape[1],)),  # Input layer\n",
    "    layers.Dense(N1, activation='relu'),  # Hidden layer\n",
    "    layers.Dense(N2, activation='relu'),  # Second Hidden layer\n",
    "    layers.Dense(N3, activation='relu'),  # third Hidden layer\n",
    "    layers.Dense(1, activation='sigmoid')  # Output layer (sigmoid for binary classification)\n",
    "    ])\n",
    "best_three_layer_model.compile(optimizer='adam', loss='binary_crossentropy', metrics=['accuracy'])\n",
    "best_three_layer_model.fit(X_train, y_train, epochs=150, batch_size=32, validation_data=(X_val, y_val),\n",
    "                           verbose=0,callbacks=[best_weight_saver])"
   ]
  },
  {
   "cell_type": "code",
   "execution_count": 48,
   "id": "1def6107-9a16-4560-8d36-4e6c699c6020",
   "metadata": {
    "ExecuteTime": {
     "end_time": "2025-03-05T17:04:20.332223Z",
     "start_time": "2025-03-05T17:04:20.229816Z"
    },
    "scrolled": true
   },
   "outputs": [
    {
     "name": "stdout",
     "output_type": "stream",
     "text": [
      "\u001b[1m2/2\u001b[0m \u001b[32m━━━━━━━━━━━━━━━━━━━━\u001b[0m\u001b[37m\u001b[0m \u001b[1m0s\u001b[0m 66ms/step\n"
     ]
    }
   ],
   "source": [
    "y_pred_test = best_three_layer_model.predict(X_test)"
   ]
  },
  {
   "cell_type": "code",
   "execution_count": 49,
   "id": "ff1883f2-bdfe-488a-af4e-cc7730d6ac74",
   "metadata": {
    "ExecuteTime": {
     "end_time": "2025-03-05T17:04:26.962822Z",
     "start_time": "2025-03-05T17:04:26.952532Z"
    }
   },
   "outputs": [
    {
     "name": "stdout",
     "output_type": "stream",
     "text": [
      "prediction completed\n"
     ]
    }
   ],
   "source": [
    "print('prediction completed')"
   ]
  },
  {
   "cell_type": "code",
   "execution_count": 50,
   "id": "a401d12c-64a3-444b-94f0-013aa6a73ced",
   "metadata": {
    "ExecuteTime": {
     "end_time": "2025-03-05T17:04:30.048512Z",
     "start_time": "2025-03-05T17:04:30.038153Z"
    },
    "scrolled": true
   },
   "outputs": [],
   "source": [
    "decision_threshold = 0.5\n",
    "y_dec_test = y_pred_test>=decision_threshold\n",
    "best_three_layer_acc_test =   accuracy_score  (y_test, y_dec_test)\n",
    "best_three_layer_rec_test =   recall_score    (y_test, y_dec_test)\n",
    "best_three_layer_prec_test =  precision_score (y_test, y_dec_test)\n",
    "best_three_layer_f1_test =    f1_score        (y_test, y_dec_test)"
   ]
  },
  {
   "cell_type": "code",
   "execution_count": 51,
   "id": "d6d0038a-242c-4a0b-acdb-f359801236b0",
   "metadata": {
    "ExecuteTime": {
     "end_time": "2025-03-05T17:04:34.075534Z",
     "start_time": "2025-03-05T17:04:34.056025Z"
    },
    "scrolled": true
   },
   "outputs": [
    {
     "name": "stdout",
     "output_type": "stream",
     "text": [
      "best single, two, and three layer models preformances\n",
      "-----------------------------------------------------\n",
      "metric      single      two       three\n",
      "Accuracy    0.82       0.82       0.80\n",
      "Recall      0.91       0.91       0.91\n",
      "Precision   0.78       0.78       0.76\n",
      "F1-Score    0.84       0.84       0.83\n"
     ]
    }
   ],
   "source": [
    "print('best single, two, and three layer models preformances')\n",
    "print('-----------------------------------------------------')\n",
    "print('metric      single      two       three')\n",
    "print(f\"Accuracy    {best_single_layer_acc_test:.2f}       {best_two_layer_acc_test:.2f}       {best_three_layer_acc_test:.2f}\")\n",
    "print(f\"Recall      {best_single_layer_rec_test:.2f}       {best_two_layer_rec_test:.2f}       {best_three_layer_rec_test:.2f}\")\n",
    "print(f\"Precision   {best_single_layer_prec_test:.2f}       {best_two_layer_prec_test:.2f}       {best_three_layer_prec_test:.2f}\")\n",
    "print(f\"F1-Score    {best_single_layer_f1_test:.2f}       {best_two_layer_f1_test:.2f}       {best_three_layer_f1_test:.2f}\")"
   ]
  },
  {
   "cell_type": "markdown",
   "id": "2b59d200-9c4e-4683-9132-50a286321393",
   "metadata": {},
   "source": [
    "The performances of the best single, two, and three hidden layer models are very similar.   \n",
    "We shell select the single hidden layer model as the best ANN model, because of its lower complexity  "
   ]
  },
  {
   "cell_type": "code",
   "execution_count": 52,
   "id": "0782a378-b465-4adf-b335-b7aea3c8fe09",
   "metadata": {
    "ExecuteTime": {
     "end_time": "2025-03-05T17:13:41.542941Z",
     "start_time": "2025-03-05T17:13:41.532417Z"
    }
   },
   "outputs": [],
   "source": [
    "BNN = best_single_layer_model\n",
    "BNN_acc_test=best_single_layer_acc_test\n",
    "BNN_rec_test=best_single_layer_rec_test\n",
    "BNN_prec_test=best_single_layer_prec_test\n",
    "BNN_f1_test=best_single_layer_f1_test"
   ]
  },
  {
   "cell_type": "markdown",
   "id": "b15a363e-69c4-4960-8fbf-4f63aaa26f09",
   "metadata": {},
   "source": [
    "**10+11) Modifying the training set** "
   ]
  },
  {
   "cell_type": "markdown",
   "id": "43cd8ef6-bd38-495b-9c13-036ad817a05d",
   "metadata": {},
   "source": [
    "__Trying to improve the performances by removing potential outliers__   "
   ]
  },
  {
   "cell_type": "markdown",
   "id": "c24d6541-2754-4ce2-8c8b-fd1527b5b6f7",
   "metadata": {},
   "source": [
    "The potential outliers are determined by their loss"
   ]
  },
  {
   "cell_type": "code",
   "execution_count": 53,
   "id": "bdfd6222-96ca-4627-87c4-9105a8a0d7cc",
   "metadata": {
    "ExecuteTime": {
     "end_time": "2025-03-05T17:14:08.119537Z",
     "start_time": "2025-03-05T17:14:08.010761Z"
    }
   },
   "outputs": [
    {
     "name": "stdout",
     "output_type": "stream",
     "text": [
      "\u001b[1m6/6\u001b[0m \u001b[32m━━━━━━━━━━━━━━━━━━━━\u001b[0m\u001b[37m\u001b[0m \u001b[1m0s\u001b[0m 9ms/step \n"
     ]
    }
   ],
   "source": [
    "y_pred_train = BNN.predict(X_train)\n",
    "loss_fn = BinaryCrossentropy(reduction='none')\n",
    "sample_losses = loss_fn(y_train.values, y_pred_train).numpy()"
   ]
  },
  {
   "cell_type": "markdown",
   "id": "a1e5fb21-8c5b-49d4-ad2c-12eb4e08b775",
   "metadata": {},
   "source": [
    "__Trying to remove 30% of the potential outliers__"
   ]
  },
  {
   "cell_type": "code",
   "execution_count": 54,
   "id": "cd78e8ee-8b48-496f-9118-b51e7068fb42",
   "metadata": {
    "ExecuteTime": {
     "end_time": "2025-03-05T17:22:14.833636Z",
     "start_time": "2025-03-05T17:22:14.812128Z"
    },
    "scrolled": true
   },
   "outputs": [
    {
     "name": "stdout",
     "output_type": "stream",
     "text": [
      "55 potential outliers detected\n"
     ]
    }
   ],
   "source": [
    "outliers_threshold = np.percentile(sample_losses, 70)\n",
    "outliers_idx = X_train.index[np.where(sample_losses >= outliers_threshold)[0]]\n",
    "print(f\"{len(outliers_idx)} potential outliers detected\")"
   ]
  },
  {
   "cell_type": "markdown",
   "id": "9656a469-9b57-4001-8f5a-8d744022bb00",
   "metadata": {},
   "source": [
    "Remove the potential outliers from the training set and training a model on the modified tarining set "
   ]
  },
  {
   "cell_type": "code",
   "execution_count": 55,
   "id": "8d68070c-0c07-42b3-a3d8-af535999d309",
   "metadata": {
    "ExecuteTime": {
     "end_time": "2025-03-05T17:22:56.436029Z",
     "start_time": "2025-03-05T17:22:53.031383Z"
    }
   },
   "outputs": [
    {
     "name": "stdout",
     "output_type": "stream",
     "text": [
      "N1 =  60\n",
      "Restored best weights from epoch 45 with val_loss: 0.4255\n"
     ]
    },
    {
     "data": {
      "text/plain": [
       "<keras.src.callbacks.history.History at 0x78cbdb0fcdd0>"
      ]
     },
     "execution_count": 55,
     "metadata": {},
     "output_type": "execute_result"
    }
   ],
   "source": [
    "X_train_R1 = X_train.drop(index=outliers_idx)\n",
    "y_train_R1 = y_train.drop(index=outliers_idx)\n",
    "N1 = best_N1\n",
    "print('N1 = ', N1)\n",
    "seed = 185; random.seed(seed); np.random.seed(seed); tf.random.set_seed(seed)\n",
    "best_weight_saver = BestWeightSaver()\n",
    "BNN_R1 = keras.Sequential([\n",
    "    layers.Input(shape=(X_train.shape[1],)),  # Input layer\n",
    "    layers.Dense(N1, activation='relu'),  # Hidden layer\n",
    "    layers.Dense(1, activation='sigmoid')  # Output layer (sigmoid for binary classification)\n",
    "    ])\n",
    "BNN_R1.compile(optimizer='adam', loss='binary_crossentropy', metrics=['accuracy'])\n",
    "BNN_R1.fit(X_train_R1, y_train_R1, epochs=75, batch_size=32,validation_data=(X_val, y_val),\n",
    "                                                  verbose=0,callbacks=[best_weight_saver])"
   ]
  },
  {
   "cell_type": "markdown",
   "id": "8505c8e4-24f1-4da2-8fa4-9feafa875de5",
   "metadata": {},
   "source": [
    "Check the performances of the modified model"
   ]
  },
  {
   "cell_type": "code",
   "execution_count": 56,
   "id": "48eb5819-e6a9-4a4f-8d8d-1a605be85819",
   "metadata": {
    "ExecuteTime": {
     "end_time": "2025-03-05T17:23:07.685452Z",
     "start_time": "2025-03-05T17:23:07.597446Z"
    }
   },
   "outputs": [
    {
     "name": "stdout",
     "output_type": "stream",
     "text": [
      "\u001b[1m2/2\u001b[0m \u001b[32m━━━━━━━━━━━━━━━━━━━━\u001b[0m\u001b[37m\u001b[0m \u001b[1m0s\u001b[0m 52ms/step\n",
      "preformances before and after removing 30% of the potential outliers\n",
      "--------------------------------------------------------------------\n",
      "metric      before     after\n",
      "Accuracy    0.82       0.77\n",
      "Recall      0.91       0.91\n",
      "Precision   0.78       0.72\n",
      "F1-Score    0.84       0.81\n"
     ]
    }
   ],
   "source": [
    "y_pred_test = BNN_R1.predict(X_test)\n",
    "decision_threshold = 0.5\n",
    "y_dec_test = y_pred_test>=decision_threshold\n",
    "BNN_R1_acc_test =   accuracy_score  (y_test, y_dec_test)\n",
    "BNN_R1_rec_test =   recall_score    (y_test, y_dec_test)\n",
    "BNN_R1_prec_test =  precision_score (y_test, y_dec_test)\n",
    "BNN_R1_f1_test =    f1_score        (y_test, y_dec_test)\n",
    "print('preformances before and after removing 30% of the potential outliers')\n",
    "print('--------------------------------------------------------------------')\n",
    "print('metric      before     after')\n",
    "print(f\"Accuracy    {best_single_layer_acc_test:.2f}       {BNN_R1_acc_test:.2f}\")\n",
    "print(f\"Recall      {best_single_layer_rec_test:.2f}       {BNN_R1_rec_test:.2f}\")\n",
    "print(f\"Precision   {best_single_layer_prec_test:.2f}       {BNN_R1_prec_test:.2f}\")\n",
    "print(f\"F1-Score    {best_single_layer_f1_test:.2f}       {BNN_R1_f1_test:.2f}\")"
   ]
  },
  {
   "cell_type": "markdown",
   "id": "2595eb1d-767e-4fe3-aca1-bca11b597ecb",
   "metadata": {},
   "source": [
    "__Removing 30% of the potential outliers degrades the precision without affecting the recall__"
   ]
  },
  {
   "cell_type": "markdown",
   "id": "179dc573-8a71-4ade-b808-1fcd4751cda7",
   "metadata": {},
   "source": [
    "__Trying to remove only 3% of the potential outliers__"
   ]
  },
  {
   "cell_type": "code",
   "execution_count": 57,
   "id": "c98a29cb-ac66-4463-8db5-c0bd90dd4d07",
   "metadata": {
    "ExecuteTime": {
     "end_time": "2025-03-05T17:27:39.138172Z",
     "start_time": "2025-03-05T17:27:39.121160Z"
    },
    "scrolled": true
   },
   "outputs": [
    {
     "name": "stdout",
     "output_type": "stream",
     "text": [
      "6 potential outliers detected\n"
     ]
    }
   ],
   "source": [
    "outliers_threshold = np.percentile(sample_losses, 97)\n",
    "outliers_idx = X_train.index[np.where(sample_losses >= outliers_threshold)[0]]\n",
    "print(f\"{len(outliers_idx)} potential outliers detected\")"
   ]
  },
  {
   "cell_type": "markdown",
   "id": "823a1382-eb3b-4e4f-bb2d-44dbc4fe146e",
   "metadata": {},
   "source": [
    "Remove the potential outliers from the training set and training a model on the modified tarining set "
   ]
  },
  {
   "cell_type": "code",
   "execution_count": 58,
   "id": "a09461ef-a0df-4d25-ad9c-73d116c6e7f0",
   "metadata": {
    "ExecuteTime": {
     "end_time": "2025-03-05T17:29:08.776608Z",
     "start_time": "2025-03-05T17:29:05.317360Z"
    }
   },
   "outputs": [
    {
     "name": "stdout",
     "output_type": "stream",
     "text": [
      "N1 =  60\n",
      "Restored best weights from epoch 32 with val_loss: 0.4459\n"
     ]
    },
    {
     "data": {
      "text/plain": [
       "<keras.src.callbacks.history.History at 0x78cbe8d7aea0>"
      ]
     },
     "execution_count": 58,
     "metadata": {},
     "output_type": "execute_result"
    }
   ],
   "source": [
    "X_train_R1 = X_train.drop(index=outliers_idx)\n",
    "y_train_R1 = y_train.drop(index=outliers_idx)\n",
    "N1 = best_N1\n",
    "print('N1 = ', N1)\n",
    "seed = 185; random.seed(seed); np.random.seed(seed); tf.random.set_seed(seed)\n",
    "best_weight_saver = BestWeightSaver()\n",
    "BNN_R1 = keras.Sequential([\n",
    "    layers.Input(shape=(X_train.shape[1],)),  # Input layer\n",
    "    layers.Dense(N1, activation='relu'),  # Hidden layer\n",
    "    layers.Dense(1, activation='sigmoid')  # Output layer (sigmoid for binary classification)\n",
    "    ])\n",
    "BNN_R1.compile(optimizer='adam', loss='binary_crossentropy', metrics=['accuracy'])\n",
    "BNN_R1.fit(X_train_R1, y_train_R1, epochs=75, batch_size=32,validation_data=(X_val, y_val),\n",
    "                                                  verbose=0,callbacks=[best_weight_saver])"
   ]
  },
  {
   "cell_type": "markdown",
   "id": "7363ad5e-5178-4ca0-bf06-d7a9d37e783c",
   "metadata": {},
   "source": [
    "Check the performances of the modified model"
   ]
  },
  {
   "cell_type": "code",
   "execution_count": 59,
   "id": "23dc50c6-cef5-46f4-9013-5b2d5076fa3a",
   "metadata": {
    "ExecuteTime": {
     "end_time": "2025-03-05T17:47:57.949412Z",
     "start_time": "2025-03-05T17:47:57.878773Z"
    }
   },
   "outputs": [
    {
     "name": "stdout",
     "output_type": "stream",
     "text": [
      "\u001b[1m2/2\u001b[0m \u001b[32m━━━━━━━━━━━━━━━━━━━━\u001b[0m\u001b[37m\u001b[0m \u001b[1m0s\u001b[0m 51ms/step\n",
      "preformances before and after removing 3% of the potential outliers\n",
      "--------------------------------------------------------------------\n",
      "metric      before     after\n",
      "Accuracy    0.82       0.82\n",
      "Recall      0.91       0.88\n",
      "Precision   0.78       0.80\n",
      "F1-Score    0.84       0.84\n"
     ]
    }
   ],
   "source": [
    "y_pred_test = BNN_R1.predict(X_test)\n",
    "decision_threshold = 0.5\n",
    "y_dec_test = y_pred_test>=decision_threshold\n",
    "BNN_R1_acc_test =   accuracy_score  (y_test, y_dec_test)\n",
    "BNN_R1_rec_test =   recall_score    (y_test, y_dec_test)\n",
    "BNN_R1_prec_test =  precision_score (y_test, y_dec_test)\n",
    "BNN_R1_f1_test =    f1_score        (y_test, y_dec_test)\n",
    "print('preformances before and after removing 3% of the potential outliers')\n",
    "print('--------------------------------------------------------------------')\n",
    "print('metric      before     after')\n",
    "print(f\"Accuracy    {best_single_layer_acc_test:.2f}       {BNN_R1_acc_test:.2f}\")\n",
    "print(f\"Recall      {best_single_layer_rec_test:.2f}       {BNN_R1_rec_test:.2f}\")\n",
    "print(f\"Precision   {best_single_layer_prec_test:.2f}       {BNN_R1_prec_test:.2f}\")\n",
    "print(f\"F1-Score    {best_single_layer_f1_test:.2f}       {BNN_R1_f1_test:.2f}\")"
   ]
  },
  {
   "cell_type": "markdown",
   "id": "3c506e76-74cb-4a0d-be9a-7f7ca2e69fcc",
   "metadata": {},
   "source": [
    "__Removing 30% of the potential outliers degrades both the recall and the precision__"
   ]
  },
  {
   "cell_type": "markdown",
   "id": "82cff6b5-64a5-4e77-ae64-1536f697a7dd",
   "metadata": {},
   "source": [
    "**12) Changing the architecture**"
   ]
  },
  {
   "cell_type": "markdown",
   "id": "1637a4fb-6f02-4820-979c-2e72e3aaba5e",
   "metadata": {},
   "source": [
    "The network is very simple, and there is no rome for architectural changes.\n",
    "We shall try utilizing dropout."
   ]
  },
  {
   "cell_type": "code",
   "execution_count": 60,
   "id": "98f345ff-f4d9-40af-8bbf-77c4ee56477e",
   "metadata": {
    "ExecuteTime": {
     "end_time": "2025-03-05T17:30:04.373037Z",
     "start_time": "2025-03-05T17:29:57.806265Z"
    }
   },
   "outputs": [
    {
     "name": "stdout",
     "output_type": "stream",
     "text": [
      "N1 =  60\n",
      "Restored best weights from epoch 137 with val_loss: 0.4985\n"
     ]
    }
   ],
   "source": [
    "N1 = best_N1\n",
    "print('N1 = ', N1)\n",
    "seed = 185; random.seed(seed); np.random.seed(seed); tf.random.set_seed(seed)\n",
    "best_weight_saver = BestWeightSaver()\n",
    "BNN_DRP = keras.Sequential([\n",
    "    layers.Input(shape=(X_train.shape[1],)),  # Input layer\n",
    "    layers.Dense(N1, activation='relu'),  # Hidden layer\n",
    "    layers.Dropout(0.3),\n",
    "    layers.Dense(1, activation='sigmoid')  # Output layer (sigmoid for binary classification)\n",
    "    ])\n",
    "BNN_DRP.compile(optimizer='adam', loss='binary_crossentropy', metrics=['accuracy'])\n",
    "BNN_DRP_history=BNN_DRP.fit(X_train_R1, y_train_R1, epochs=150, batch_size=32,validation_data=(X_val, y_val),\n",
    "                            verbose=0,callbacks=[best_weight_saver])"
   ]
  },
  {
   "cell_type": "code",
   "execution_count": 61,
   "id": "0d3de1bc-8bcf-4103-b733-b73fcc2ac57e",
   "metadata": {
    "ExecuteTime": {
     "end_time": "2025-03-05T17:30:19.163118Z",
     "start_time": "2025-03-05T17:30:18.945172Z"
    }
   },
   "outputs": [
    {
     "data": {
      "image/png": "[encoded data removed]",
      "text/plain": [
       "<Figure size 1000x500 with 2 Axes>"
      ]
     },
     "metadata": {},
     "output_type": "display_data"
    }
   ],
   "source": [
    "fig, axes = plt.subplots(1,2,figsize=(10,5))\n",
    "fig.tight_layout(pad=4.0)\n",
    "ax = axes[0]\n",
    "ax.plot(BNN_DRP_history.history['loss'], label='train')\n",
    "ax.plot(BNN_DRP_history.history['val_loss'], label='validation')\n",
    "ax.grid()\n",
    "ax.legend()\n",
    "ax.set_xlabel('epocs')\n",
    "ax.set_ylabel('loss')\n",
    "ax=axes[1]\n",
    "ax.plot(BNN_DRP_history.history['accuracy'], label='train')\n",
    "ax.plot(BNN_DRP_history.history['val_accuracy'], label='validation')\n",
    "ax.grid()\n",
    "ax.legend()\n",
    "ax.set_xlabel('epocs')\n",
    "ax.set_ylabel('accuracy')\n",
    "plt.suptitle('training with dropout')\n",
    "plt.show()"
   ]
  },
  {
   "cell_type": "code",
   "execution_count": 62,
   "id": "f74410ef-9fb9-4870-9737-e8c8d4ccf08d",
   "metadata": {
    "ExecuteTime": {
     "end_time": "2025-03-05T17:48:37.976754Z",
     "start_time": "2025-03-05T17:48:37.908109Z"
    }
   },
   "outputs": [
    {
     "name": "stdout",
     "output_type": "stream",
     "text": [
      "\u001b[1m2/2\u001b[0m \u001b[32m━━━━━━━━━━━━━━━━━━━━\u001b[0m\u001b[37m\u001b[0m \u001b[1m0s\u001b[0m 52ms/step\n",
      "preformances before and after dropout\n",
      "--------------------------------------------------------------------\n",
      "metric      before     after\n",
      "Accuracy    0.82       0.80\n",
      "Recall      0.91       0.88\n",
      "Precision   0.78       0.78\n",
      "F1-Score    0.84       0.82\n"
     ]
    }
   ],
   "source": [
    "y_pred_test = BNN_DRP.predict(X_test)\n",
    "decision_threshold = 0.5\n",
    "y_dec_test = y_pred_test>=decision_threshold\n",
    "BNN_DRP_acc_test =   accuracy_score  (y_test, y_dec_test)\n",
    "BNN_DRP_rec_test =   recall_score    (y_test, y_dec_test)\n",
    "BNN_DRP_prec_test =  precision_score (y_test, y_dec_test)\n",
    "BNN_DRP_f1_test =    f1_score        (y_test, y_dec_test)\n",
    "print('preformances before and after dropout')\n",
    "print('--------------------------------------------------------------------')\n",
    "print('metric      before     after')\n",
    "print(f\"Accuracy    {BNN_acc_test:.2f}       {BNN_DRP_acc_test:.2f}\")\n",
    "print(f\"Recall      {BNN_rec_test:.2f}       {BNN_DRP_rec_test:.2f}\")\n",
    "print(f\"Precision   {BNN_prec_test:.2f}       {BNN_DRP_prec_test:.2f}\")\n",
    "print(f\"F1-Score    {BNN_f1_test:.2f}       {BNN_DRP_f1_test:.2f}\")"
   ]
  },
  {
   "cell_type": "markdown",
   "id": "769f4aad-8a7d-4101-8644-e759abd0a5ad",
   "metadata": {},
   "source": [
    "__Dropout does improve the performances__"
   ]
  },
  {
   "cell_type": "markdown",
   "id": "0c8d1c5b-361d-4958-be17-b903a208c1d3",
   "metadata": {},
   "source": [
    "**13) Utilizing the Hinge loss function**"
   ]
  },
  {
   "cell_type": "code",
   "execution_count": 63,
   "id": "eda808cc-ead0-4500-984e-ace73264ab32",
   "metadata": {
    "ExecuteTime": {
     "end_time": "2025-03-05T17:44:13.303936Z",
     "start_time": "2025-03-05T17:44:13.291937Z"
    }
   },
   "outputs": [],
   "source": [
    "y_train_hinge = y_train.replace(0, -1)\n",
    "y_val_hinge = y_val.replace(0, -1)\n",
    "y_test_hinge = y_test.replace(0, -1)"
   ]
  },
  {
   "cell_type": "code",
   "execution_count": 64,
   "id": "1727fcbf-8697-41cf-b9cf-481c6c704891",
   "metadata": {
    "ExecuteTime": {
     "end_time": "2025-03-05T17:45:34.928073Z",
     "start_time": "2025-03-05T17:45:31.397668Z"
    }
   },
   "outputs": [
    {
     "name": "stdout",
     "output_type": "stream",
     "text": [
      "N1 =  60\n",
      "Restored best weights from epoch 29 with val_loss: 0.4562\n"
     ]
    }
   ],
   "source": [
    "N1 = best_N1\n",
    "print('N1 = ', N1)\n",
    "seed = 185; random.seed(seed); np.random.seed(seed); tf.random.set_seed(seed)\n",
    "best_weight_saver = BestWeightSaver()\n",
    "hinge_model = keras.Sequential([\n",
    "    layers.Input(shape=(X_train.shape[1],)),  # Input layer\n",
    "    layers.Dense(N1, activation='relu'),  # Hidden layer\n",
    "    layers.Dense(1, activation='linear')  # Output layer (sigmoid for binary classification)\n",
    "    ])\n",
    "hinge_model.compile(optimizer='adam', loss='hinge', metrics=['accuracy'])\n",
    "hinge_history = hinge_model.fit(X_train, y_train_hinge, epochs=75, batch_size=32,validation_data=(X_val, y_val_hinge),\n",
    "                                                  verbose=0,callbacks=[best_weight_saver])"
   ]
  },
  {
   "cell_type": "code",
   "execution_count": 65,
   "id": "eb55c718-0d22-4b2f-b17e-82730a6ef7f8",
   "metadata": {
    "ExecuteTime": {
     "end_time": "2025-03-05T17:44:25.910392Z",
     "start_time": "2025-03-05T17:44:25.815714Z"
    }
   },
   "outputs": [
    {
     "data": {
      "image/png": "[encoded data removed]",
      "text/plain": [
       "<Figure size 640x480 with 1 Axes>"
      ]
     },
     "metadata": {},
     "output_type": "display_data"
    }
   ],
   "source": [
    "plt.figure()\n",
    "val_loss = hinge_history.history['val_loss']\n",
    "plt.plot(val_loss)\n",
    "plt.grid()\n",
    "plt.ylim(0.4,1)\n",
    "plt.xlabel('epoch')\n",
    "plt.ylabel('loss')\n",
    "plt.title(f'hinge validation loss')\n",
    "plt.show()"
   ]
  },
  {
   "cell_type": "code",
   "execution_count": 66,
   "id": "a788b73e-32cf-4c7e-8b0e-abb3c3b43918",
   "metadata": {
    "ExecuteTime": {
     "end_time": "2025-03-05T17:45:36.423450Z",
     "start_time": "2025-03-05T17:45:36.326309Z"
    }
   },
   "outputs": [
    {
     "name": "stdout",
     "output_type": "stream",
     "text": [
      "\u001b[1m2/2\u001b[0m \u001b[32m━━━━━━━━━━━━━━━━━━━━\u001b[0m\u001b[37m\u001b[0m \u001b[1m0s\u001b[0m 51ms/step\n",
      "hinge model test preformances\n",
      "metric      value\n",
      "-----------------\n",
      "Accuracy    0.82\n",
      "Recall      0.91\n",
      "Precision   0.78\n",
      "F1-Score    0.84\n"
     ]
    }
   ],
   "source": [
    "decision_threshold = 0\n",
    "y_pred_test = hinge_model.predict(X_test)\n",
    "y_dec_test = y_pred_test>=decision_threshold\n",
    "hinge_acc_test =   accuracy_score  (y_test, y_dec_test)\n",
    "hinge_rec_test =   recall_score    (y_test, y_dec_test)\n",
    "hinge_prec_test =  precision_score (y_test, y_dec_test)\n",
    "hinge_f1_test =    f1_score        (y_test, y_dec_test)\n",
    "print('hinge model test preformances')\n",
    "print('metric      value')\n",
    "print('-----------------')\n",
    "print(f\"Accuracy    {hinge_acc_test:.2f}\")\n",
    "print(f\"Recall      {hinge_rec_test:.2f}\")\n",
    "print(f\"Precision   {hinge_prec_test:.2f}\")\n",
    "print(f\"F1-Score    {hinge_f1_test:.2f}\")"
   ]
  },
  {
   "cell_type": "markdown",
   "id": "4bce9be1-7fc8-4cdf-9c88-ad2a1e0c1651",
   "metadata": {},
   "source": [
    "The performances with the Hinge activation function are similar to those with the binary entropy one"
   ]
  },
  {
   "cell_type": "markdown",
   "id": "7f3b02cf-7fd7-4dda-b68c-58ff879c5a1b",
   "metadata": {},
   "source": [
    "**14) Changing the balance of the data set** "
   ]
  },
  {
   "cell_type": "markdown",
   "id": "280718d3-1e57-4314-a5d0-148c0f948029",
   "metadata": {},
   "source": [
    "The data set is well balanced: the negative/positive output ratio is 0.46/0.54.\n",
    "Therefore, changing the balance is expected to deterirate the performances."
   ]
  },
  {
   "cell_type": "markdown",
   "id": "08e50888-1df3-4cca-88b2-f102f71b81bb",
   "metadata": {},
   "source": [
    "*****Moderate imbalance***** "
   ]
  },
  {
   "cell_type": "markdown",
   "id": "baeef6a2-93aa-4517-a5fa-2c2a74b551ae",
   "metadata": {},
   "source": [
    "Removing 50% of the positive-target samples from the trainning and validation sets"
   ]
  },
  {
   "cell_type": "code",
   "execution_count": 67,
   "id": "bf25e791-543d-48c3-9c25-f94d866bd522",
   "metadata": {
    "ExecuteTime": {
     "end_time": "2025-03-05T18:43:00.485158Z",
     "start_time": "2025-03-05T18:43:00.466160Z"
    }
   },
   "outputs": [],
   "source": [
    "p=0.5\n",
    "positive_indices = y_train[y_train == 1].index.to_numpy()\n",
    "num_to_remove = int(p * len(positive_indices))\n",
    "rows_to_remove = np.random.choice(positive_indices, num_to_remove, replace=False)\n",
    "y_R1_train = y_train.drop(rows_to_remove)\n",
    "X_R1_train = X_train.drop(rows_to_remove)\n",
    "positive_indices = y_val[y_val == 1].index.to_numpy()\n",
    "num_to_remove = int(p * len(positive_indices))\n",
    "rows_to_remove = np.random.choice(positive_indices, num_to_remove, replace=False)\n",
    "y_R1_val = y_val.drop(rows_to_remove)\n",
    "X_R1_val = X_val.drop(rows_to_remove)"
   ]
  },
  {
   "cell_type": "markdown",
   "id": "35ac64c5-a30b-47ae-9aad-9520c06f3831",
   "metadata": {},
   "source": [
    "Training the best ANN on the modified data set "
   ]
  },
  {
   "cell_type": "code",
   "execution_count": 68,
   "id": "755db5c8-87d7-47a5-93c0-70f4c9ad7162",
   "metadata": {
    "ExecuteTime": {
     "end_time": "2025-03-05T18:43:09.941244Z",
     "start_time": "2025-03-05T18:43:03.001475Z"
    },
    "jupyter": {
     "source_hidden": true
    },
    "scrolled": true
   },
   "outputs": [
    {
     "name": "stdout",
     "output_type": "stream",
     "text": [
      "Restored best weights from epoch 77 with val_loss: 0.4702\n"
     ]
    },
    {
     "data": {
      "text/plain": [
       "<keras.src.callbacks.history.History at 0x78cbe1ee9e50>"
      ]
     },
     "execution_count": 68,
     "metadata": {},
     "output_type": "execute_result"
    }
   ],
   "source": [
    "N1=best_N1\n",
    "N2=best_N2\n",
    "N3=best_N3\n",
    "seed = 185; random.seed(seed); np.random.seed(seed); tf.random.set_seed(seed)\n",
    "best_weight_saver = BestWeightSaver()\n",
    "BNN_R1_model = keras.Sequential([\n",
    "    layers.Input(shape=(X_train.shape[1],)),  # Input layer\n",
    "    layers.Dense(N1, activation='relu'),  # Hidden layer\n",
    "    layers.Dense(N2, activation='relu'),  # Second Hidden layer\n",
    "    layers.Dense(N3, activation='relu'),  # third Hidden layer\n",
    "    layers.Dense(1, activation='sigmoid')  # Output layer (sigmoid for binary classification)\n",
    "    ])\n",
    "BNN_R1_model.compile(optimizer='adam', loss='binary_crossentropy', metrics=['accuracy'])\n",
    "BNN_R1_model.fit(X_R1_train, y_R1_train, epochs=150, batch_size=32, validation_data=(X_R1_val, y_R1_val),\n",
    "                           verbose=0,callbacks=[best_weight_saver])"
   ]
  },
  {
   "cell_type": "code",
   "execution_count": 69,
   "id": "0af4ec88-6164-4a09-a03a-bd73a011e089",
   "metadata": {
    "ExecuteTime": {
     "end_time": "2025-03-05T18:43:19.287068Z",
     "start_time": "2025-03-05T18:43:19.178367Z"
    },
    "jupyter": {
     "source_hidden": true
    },
    "scrolled": true
   },
   "outputs": [
    {
     "name": "stdout",
     "output_type": "stream",
     "text": [
      "\u001b[1m2/2\u001b[0m \u001b[32m━━━━━━━━━━━━━━━━━━━━\u001b[0m\u001b[37m\u001b[0m \u001b[1m0s\u001b[0m 75ms/step\n"
     ]
    }
   ],
   "source": [
    "y_pred_test = BNN_R1_model.predict(X_test)"
   ]
  },
  {
   "cell_type": "code",
   "execution_count": 70,
   "id": "25ec2acd-41d6-4161-9d0d-fad383d8c708",
   "metadata": {},
   "outputs": [
    {
     "name": "stdout",
     "output_type": "stream",
     "text": [
      "prediction completed\n"
     ]
    }
   ],
   "source": [
    "print('prediction completed')"
   ]
  },
  {
   "cell_type": "code",
   "execution_count": 71,
   "id": "f4c29d87-8166-41a8-a8fc-83b62841cdd0",
   "metadata": {
    "ExecuteTime": {
     "end_time": "2025-03-05T18:43:23.919816Z",
     "start_time": "2025-03-05T18:43:23.899816Z"
    },
    "scrolled": true
   },
   "outputs": [],
   "source": [
    "decision_threshold = 0.5\n",
    "y_dec_test = y_pred_test>=decision_threshold\n",
    "BNN_R1_acc_test =   accuracy_score  (y_test, y_dec_test)\n",
    "BNN_R1_rec_test =   recall_score    (y_test, y_dec_test)\n",
    "BNN_R1_prec_test =  precision_score (y_test, y_dec_test)\n",
    "BNN_R1_f1_test =    f1_score        (y_test, y_dec_test)"
   ]
  },
  {
   "cell_type": "code",
   "execution_count": 72,
   "id": "934baf51-5282-489e-affd-95f864cc375c",
   "metadata": {
    "ExecuteTime": {
     "end_time": "2025-03-05T18:43:35.609263Z",
     "start_time": "2025-03-05T18:43:35.590262Z"
    },
    "scrolled": true
   },
   "outputs": [
    {
     "name": "stdout",
     "output_type": "stream",
     "text": [
      "Original versus modified data set\n",
      "---------------------------------\n",
      "metric      original      modified\n",
      "Accuracy    0.82       0.77\n",
      "Recall      0.91       0.78\n",
      "Precision   0.78       0.78\n",
      "F1-Score    0.84       0.78\n"
     ]
    }
   ],
   "source": [
    "print('Original versus modified data set')\n",
    "print('---------------------------------')\n",
    "print('metric      original      modified')\n",
    "print(f\"Accuracy    {BNN_acc_test:.2f}       {BNN_R1_acc_test:.2f}\")\n",
    "print(f\"Recall      {BNN_rec_test:.2f}       {BNN_R1_rec_test:.2f}\")\n",
    "print(f\"Precision   {BNN_prec_test:.2f}       {BNN_R1_prec_test:.2f}\")\n",
    "print(f\"F1-Score    {BNN_f1_test:.2f}       {BNN_R1_f1_test:.2f}\")"
   ]
  },
  {
   "cell_type": "code",
   "execution_count": 73,
   "id": "9313a0bc-e00e-4db7-8231-5c6b8a79f1b9",
   "metadata": {
    "ExecuteTime": {
     "end_time": "2025-03-05T18:44:04.080301Z",
     "start_time": "2025-03-05T18:44:04.066300Z"
    }
   },
   "outputs": [
    {
     "name": "stdout",
     "output_type": "stream",
     "text": [
      "The positive outcome rate in the training set is  0.3893129770992366\n"
     ]
    }
   ],
   "source": [
    "print('The positive outcome rate in the training set is ',np.mean(y_R1_train))"
   ]
  },
  {
   "cell_type": "markdown",
   "id": "cc399411-1d58-4486-959b-4f44b24cb822",
   "metadata": {},
   "source": [
    "The dataset is moderately imbalanced.   \n",
    "The recall was highly degraded, while the precision is not affected.   \n",
    "Consequently,the accuracy and the F1 score are also degraded.  "
   ]
  },
  {
   "cell_type": "markdown",
   "id": "872d0da0-35a5-4338-aa5b-1547849c266e",
   "metadata": {},
   "source": [
    "*****High imbalance***** "
   ]
  },
  {
   "cell_type": "markdown",
   "id": "d7fc03ac-2723-459c-ab42-943cdfe9d33a",
   "metadata": {},
   "source": [
    "Removing 90% of the positive-target samples from the trainning and validation sets"
   ]
  },
  {
   "cell_type": "code",
   "execution_count": 74,
   "id": "bad0dffe-1610-497a-8b21-1595b389c215",
   "metadata": {
    "ExecuteTime": {
     "end_time": "2025-03-05T18:45:47.183274Z",
     "start_time": "2025-03-05T18:45:47.159912Z"
    }
   },
   "outputs": [],
   "source": [
    "p=0.90\n",
    "positive_indices = y_train[y_train == 1].index.to_numpy()\n",
    "num_to_remove = int(p * len(positive_indices))\n",
    "rows_to_remove = np.random.choice(positive_indices, num_to_remove, replace=False)\n",
    "y_R2_train = y_train.drop(rows_to_remove)\n",
    "X_R2_train = X_train.drop(rows_to_remove)\n",
    "positive_indices = y_val[y_val == 1].index.to_numpy()\n",
    "num_to_remove = int(p * len(positive_indices))\n",
    "rows_to_remove = np.random.choice(positive_indices, num_to_remove, replace=False)\n",
    "y_R2_val = y_val.drop(rows_to_remove)\n",
    "X_R2_val = X_val.drop(rows_to_remove)"
   ]
  },
  {
   "cell_type": "markdown",
   "id": "ba6790e6-d401-4a89-9dbf-58e8a16a0d9c",
   "metadata": {},
   "source": [
    "Training the best ANN on the modified data set "
   ]
  },
  {
   "cell_type": "code",
   "execution_count": 75,
   "id": "8a43010f-c47e-41b5-a9f6-0559dec0b4df",
   "metadata": {
    "ExecuteTime": {
     "end_time": "2025-03-05T18:45:57.010260Z",
     "start_time": "2025-03-05T18:45:50.294129Z"
    },
    "scrolled": true
   },
   "outputs": [
    {
     "name": "stdout",
     "output_type": "stream",
     "text": [
      "Restored best weights from epoch 147 with val_loss: 0.3278\n"
     ]
    },
    {
     "data": {
      "text/plain": [
       "<keras.src.callbacks.history.History at 0x78cbd955f350>"
      ]
     },
     "execution_count": 75,
     "metadata": {},
     "output_type": "execute_result"
    }
   ],
   "source": [
    "N1=best_N1\n",
    "N2=best_N2\n",
    "N3=best_N3\n",
    "seed = 185; random.seed(seed); np.random.seed(seed); tf.random.set_seed(seed)\n",
    "best_weight_saver = BestWeightSaver()\n",
    "BNN_R2_model = keras.Sequential([\n",
    "    layers.Input(shape=(X_train.shape[1],)),  # Input layer\n",
    "    layers.Dense(N1, activation='relu'),  # Hidden layer\n",
    "    layers.Dense(N2, activation='relu'),  # Second Hidden layer\n",
    "    layers.Dense(N3, activation='relu'),  # third Hidden layer\n",
    "    layers.Dense(1, activation='sigmoid')  # Output layer (sigmoid for binary classification)\n",
    "    ])\n",
    "BNN_R2_model.compile(optimizer='adam', loss='binary_crossentropy', metrics=['accuracy'])\n",
    "BNN_R2_model.fit(X_R2_train, y_R2_train, epochs=150, batch_size=32, validation_data=(X_R2_val, y_R2_val),\n",
    "                           verbose=0,callbacks=[best_weight_saver])"
   ]
  },
  {
   "cell_type": "code",
   "execution_count": 76,
   "id": "e3b8eead-c3cf-4100-b817-5cfeb9c77aae",
   "metadata": {
    "ExecuteTime": {
     "end_time": "2025-03-05T18:46:01.884450Z",
     "start_time": "2025-03-05T18:46:01.777931Z"
    },
    "scrolled": true
   },
   "outputs": [
    {
     "name": "stdout",
     "output_type": "stream",
     "text": [
      "\u001b[1m2/2\u001b[0m \u001b[32m━━━━━━━━━━━━━━━━━━━━\u001b[0m\u001b[37m\u001b[0m \u001b[1m0s\u001b[0m 67ms/step\n"
     ]
    }
   ],
   "source": [
    "y_pred_test = BNN_R2_model.predict(X_test)"
   ]
  },
  {
   "cell_type": "code",
   "execution_count": 77,
   "id": "333bb4e9-48b5-42e4-91bb-6c31b2e2391d",
   "metadata": {},
   "outputs": [
    {
     "name": "stdout",
     "output_type": "stream",
     "text": [
      "prediction completed\n"
     ]
    }
   ],
   "source": [
    "print('prediction completed')"
   ]
  },
  {
   "cell_type": "code",
   "execution_count": 78,
   "id": "f2710ad9-5cf2-49a3-9af5-62cc59c0aadc",
   "metadata": {
    "ExecuteTime": {
     "end_time": "2025-03-05T18:46:09.109666Z",
     "start_time": "2025-03-05T18:46:09.091649Z"
    },
    "scrolled": true
   },
   "outputs": [],
   "source": [
    "decision_threshold = 0.5\n",
    "y_dec_test = y_pred_test>=decision_threshold\n",
    "BNN_R2_acc_test =   accuracy_score  (y_test, y_dec_test)\n",
    "BNN_R2_rec_test =   recall_score    (y_test, y_dec_test)\n",
    "BNN_R2_prec_test =  precision_score (y_test, y_dec_test)\n",
    "BNN_R2_f1_test =    f1_score        (y_test, y_dec_test)"
   ]
  },
  {
   "cell_type": "code",
   "execution_count": 79,
   "id": "656c6436-3b72-4610-9bee-83fc6f40b484",
   "metadata": {
    "ExecuteTime": {
     "end_time": "2025-03-05T18:46:17.369258Z",
     "start_time": "2025-03-05T18:46:17.356257Z"
    },
    "scrolled": true
   },
   "outputs": [
    {
     "name": "stdout",
     "output_type": "stream",
     "text": [
      "Original versus modified data set\n",
      "---------------------------------\n",
      "metric      original      modified\n",
      "Accuracy    0.82       0.64\n",
      "Recall      0.91       0.44\n",
      "Precision   0.78       0.78\n",
      "F1-Score    0.84       0.56\n"
     ]
    }
   ],
   "source": [
    "print('Original versus modified data set')\n",
    "print('---------------------------------')\n",
    "print('metric      original      modified')\n",
    "print(f\"Accuracy    {BNN_acc_test:.2f}       {BNN_R2_acc_test:.2f}\")\n",
    "print(f\"Recall      {BNN_rec_test:.2f}       {BNN_R2_rec_test:.2f}\")\n",
    "print(f\"Precision   {BNN_prec_test:.2f}       {BNN_R2_prec_test:.2f}\")\n",
    "print(f\"F1-Score    {BNN_f1_test:.2f}       {BNN_R2_f1_test:.2f}\")"
   ]
  },
  {
   "cell_type": "code",
   "execution_count": 80,
   "id": "1151b9cb-27cc-4d7e-98bb-1a2da39048a6",
   "metadata": {
    "ExecuteTime": {
     "end_time": "2025-03-05T18:49:05.306068Z",
     "start_time": "2025-03-05T18:49:05.297068Z"
    }
   },
   "outputs": [
    {
     "name": "stdout",
     "output_type": "stream",
     "text": [
      "The positive outcome rate in the training set is  0.12087912087912088\n"
     ]
    }
   ],
   "source": [
    "print('The positive outcome rate in the training set is ',np.mean(y_R2_train))"
   ]
  },
  {
   "cell_type": "markdown",
   "id": "2f4843e9-e058-4e22-b666-96448c327649",
   "metadata": {},
   "source": [
    "The dataset is highly imbalanced.   \n",
    "The recall was completely degraded, while the precision is not affected.   \n",
    "Consequently,the accuracy and the F1 score are also highly degraded.  "
   ]
  },
  {
   "cell_type": "markdown",
   "id": "39d9fddf-15b2-40a8-9cde-c47fbc0df3b4",
   "metadata": {},
   "source": [
    "**15) Dimmension reduction**"
   ]
  },
  {
   "cell_type": "markdown",
   "id": "de9be8e6-7175-42cd-afec-2e184f0d4cec",
   "metadata": {},
   "source": [
    "*****Removing non correlated predictors*****"
   ]
  },
  {
   "cell_type": "markdown",
   "id": "0e0a523c-36b1-448e-a7d9-ee02e34c486c",
   "metadata": {},
   "source": [
    "Removing the for predictors trestbps, restecg, chol, and fbs, which have the lowest correlation with the target, from the dataset"
   ]
  },
  {
   "cell_type": "code",
   "execution_count": 81,
   "id": "24a9bea2-fe83-4bdb-baa0-8c473ed86062",
   "metadata": {
    "ExecuteTime": {
     "end_time": "2025-03-05T18:51:45.187466Z",
     "start_time": "2025-03-05T18:51:45.174190Z"
    }
   },
   "outputs": [],
   "source": [
    "X1=X.drop(columns=['trestbps','restecg_1','restecg_2','chol','fbs'])\n",
    "y1=y.copy()"
   ]
  },
  {
   "cell_type": "code",
   "execution_count": 82,
   "id": "137d5088-8f5c-47e8-b3d9-790dbdce7aa0",
   "metadata": {
    "ExecuteTime": {
     "end_time": "2025-03-05T18:51:47.105585Z",
     "start_time": "2025-03-05T18:51:47.086587Z"
    }
   },
   "outputs": [],
   "source": [
    "X1_train, X1_full_test, y1_train, y1_full_test = train_test_split(X1, y1, test_size=0.4,random_state=503)\n",
    "X1_val, X1_test, y1_val,y1_test = train_test_split(X1_full_test, y1_full_test, test_size=0.5,random_state=419)"
   ]
  },
  {
   "cell_type": "code",
   "execution_count": 83,
   "id": "56fd8e9c-b738-45e5-8df6-3a16f5145baa",
   "metadata": {
    "ExecuteTime": {
     "end_time": "2025-03-05T18:51:56.111083Z",
     "start_time": "2025-03-05T18:51:49.515772Z"
    }
   },
   "outputs": [
    {
     "name": "stdout",
     "output_type": "stream",
     "text": [
      "N1 =  60\n",
      "Restored best weights from epoch 61 with val_loss: 0.4288\n"
     ]
    },
    {
     "data": {
      "text/plain": [
       "<keras.src.callbacks.history.History at 0x78cbdaf45f40>"
      ]
     },
     "execution_count": 83,
     "metadata": {},
     "output_type": "execute_result"
    }
   ],
   "source": [
    "N1 = best_N1\n",
    "print('N1 = ', N1)\n",
    "seed = 185; random.seed(seed); np.random.seed(seed); tf.random.set_seed(seed)\n",
    "best_weight_saver = BestWeightSaver()\n",
    "BNN_DR = keras.Sequential([\n",
    "    layers.Input(shape=(X1_train.shape[1],)),  # Input layer\n",
    "    layers.Dense(N1, activation='relu'),  # Hidden layer\n",
    "    layers.Dense(1, activation='sigmoid')  # Output layer (sigmoid for binary classification)\n",
    "    ])\n",
    "BNN_DR.compile(optimizer='adam', loss='binary_crossentropy', metrics=['accuracy'])\n",
    "BNN_DR.fit(X1_train, y1_train, epochs=150, batch_size=32,validation_data=(X1_val, y1_val),\n",
    "                                                  verbose=0,callbacks=[best_weight_saver])"
   ]
  },
  {
   "cell_type": "code",
   "execution_count": 84,
   "id": "95b924d7-0429-4327-89b6-6f54e7d2bee1",
   "metadata": {
    "ExecuteTime": {
     "end_time": "2025-03-05T18:51:59.875992Z",
     "start_time": "2025-03-05T18:51:59.754906Z"
    }
   },
   "outputs": [
    {
     "name": "stdout",
     "output_type": "stream",
     "text": [
      "\u001b[1m2/2\u001b[0m \u001b[32m━━━━━━━━━━━━━━━━━━━━\u001b[0m\u001b[37m\u001b[0m \u001b[1m0s\u001b[0m 49ms/step\n"
     ]
    }
   ],
   "source": [
    "y_pred = BNN_DR.predict(X1_test)"
   ]
  },
  {
   "cell_type": "code",
   "execution_count": 85,
   "id": "ffa2f54b-6798-4d89-aae8-0ffaefdd652f",
   "metadata": {
    "ExecuteTime": {
     "end_time": "2025-03-05T18:52:02.420469Z",
     "start_time": "2025-03-05T18:52:02.403958Z"
    }
   },
   "outputs": [
    {
     "name": "stdout",
     "output_type": "stream",
     "text": [
      "Comparing the performance metrics before and after removing non-correlated predictors\n",
      "-------------------------------------------------------------------------------------\n",
      "before         after\n",
      "Accuracy:  0.82       0.8\n",
      "Recall:    0.91       0.88\n",
      "Precision: 0.78       0.78\n",
      "F1-Score:  0.84       0.82\n"
     ]
    }
   ],
   "source": [
    "decision_threshold = 0.5\n",
    "y_pred_dec = y_pred>decision_threshold\n",
    "BNN_DR_acc = accuracy_score(y1_test, y_pred_dec)\n",
    "BNN_DR_prec = precision_score(y1_test, y_pred_dec)\n",
    "BNN_DR_rec = recall_score(y1_test, y_pred_dec)\n",
    "BNN_DR_f1 = f1_score(y1_test, y_pred_dec)\n",
    "print('Comparing the performance metrics before and after removing non-correlated predictors')\n",
    "print('-------------------------------------------------------------------------------------')\n",
    "print('before         after')\n",
    "print(f\"Accuracy:  {BNN_acc_test:.2}       {BNN_DR_acc:.2}\")\n",
    "print(f\"Recall:    {BNN_rec_test:.2}       {BNN_DR_rec:.2}\")\n",
    "print(f\"Precision: {BNN_prec_test:.2}       {BNN_DR_prec:.2f}\")\n",
    "print(f\"F1-Score:  {BNN_f1_test:.2}       {BNN_DR_f1:.2f}\")"
   ]
  },
  {
   "cell_type": "markdown",
   "id": "7f99e328-b87d-414f-8dcf-7f24112149d3",
   "metadata": {},
   "source": [
    "Even the predictors with the lowest correlation contribute something to the performances of the model.   \n",
    "Therefore, removing them is not a good choice for dimension reduction.   \n",
    "Since the number of dimensions is relatively low (13) and the size of the network is relatively low, there is no much insentive to reduce the number of dimmensions."
   ]
  }
 ],
 "metadata": {
  "kernelspec": {
   "display_name": "Python 3",
   "language": "python",
   "name": "python3"
  },
  "language_info": {
   "codemirror_mode": {
    "name": "ipython",
    "version": 3
   },
   "file_extension": ".py",
   "mimetype": "text/x-python",
   "name": "python",
   "nbconvert_exporter": "python",
   "pygments_lexer": "ipython3",
   "version": "3.12.3"
  }
 },
 "nbformat": 4,
 "nbformat_minor": 5
}
